{
 "cells": [
  {
   "cell_type": "code",
   "execution_count": 1,
   "id": "8d5a7378",
   "metadata": {},
   "outputs": [],
   "source": [
    "import pandas as pd"
   ]
  },
  {
   "cell_type": "code",
   "execution_count": 2,
   "id": "e02729bd",
   "metadata": {},
   "outputs": [
    {
     "name": "stderr",
     "output_type": "stream",
     "text": [
      "/var/folders/l7/bnn1j6bs3bqfskq2jlq55yh80000gr/T/ipykernel_31550/3725118419.py:2: DtypeWarning: Columns (7) have mixed types. Specify dtype option on import or set low_memory=False.\n",
      "  df = pd.read_csv(csv_file, encoding=\"ISO-8859-2\")\n"
     ]
    },
    {
     "data": {
      "text/html": [
       "<div>\n",
       "<style scoped>\n",
       "    .dataframe tbody tr th:only-of-type {\n",
       "        vertical-align: middle;\n",
       "    }\n",
       "\n",
       "    .dataframe tbody tr th {\n",
       "        vertical-align: top;\n",
       "    }\n",
       "\n",
       "    .dataframe thead th {\n",
       "        text-align: right;\n",
       "    }\n",
       "</style>\n",
       "<table border=\"1\" class=\"dataframe\">\n",
       "  <thead>\n",
       "    <tr style=\"text-align: right;\">\n",
       "      <th></th>\n",
       "      <th>Title</th>\n",
       "      <th>DOI</th>\n",
       "      <th>Author</th>\n",
       "      <th>Author ISNI</th>\n",
       "      <th>ORCID</th>\n",
       "      <th>Institution</th>\n",
       "      <th>Institution ISNI</th>\n",
       "      <th>Date</th>\n",
       "      <th>Qualification</th>\n",
       "      <th>Abstract</th>\n",
       "      <th>Subject Discipline</th>\n",
       "      <th>Supervisor(s)</th>\n",
       "      <th>Funder(s)</th>\n",
       "      <th>EThOS URL</th>\n",
       "      <th>IR URL</th>\n",
       "    </tr>\n",
       "  </thead>\n",
       "  <tbody>\n",
       "    <tr>\n",
       "      <th>0</th>\n",
       "      <td>Computation and measurement of turbulent flow ...</td>\n",
       "      <td></td>\n",
       "      <td>Loizou, Panos A.</td>\n",
       "      <td>https://isni.org/isni/0000000136122593</td>\n",
       "      <td></td>\n",
       "      <td>University of Manchester</td>\n",
       "      <td>https://isni.org/isni/0000000121662407</td>\n",
       "      <td>1989</td>\n",
       "      <td>Thesis (Ph.D.)</td>\n",
       "      <td></td>\n",
       "      <td>Physical Sciences</td>\n",
       "      <td></td>\n",
       "      <td></td>\n",
       "      <td>https://ethos.bl.uk/OrderDetails.do?uin=uk.bl....</td>\n",
       "      <td></td>\n",
       "    </tr>\n",
       "    <tr>\n",
       "      <th>1</th>\n",
       "      <td>Prolactin and growth hormone secretion in norm...</td>\n",
       "      <td></td>\n",
       "      <td>Prescott, R. W. G.</td>\n",
       "      <td>https://isni.org/isni/0000000134992122</td>\n",
       "      <td></td>\n",
       "      <td>University of Newcastle upon Tyne</td>\n",
       "      <td>https://isni.org/isni/0000000104627212</td>\n",
       "      <td>1983</td>\n",
       "      <td>Thesis (Ph.D.)</td>\n",
       "      <td></td>\n",
       "      <td>Biological Sciences</td>\n",
       "      <td></td>\n",
       "      <td></td>\n",
       "      <td>https://ethos.bl.uk/OrderDetails.do?uin=uk.bl....</td>\n",
       "      <td></td>\n",
       "    </tr>\n",
       "    <tr>\n",
       "      <th>2</th>\n",
       "      <td>Influence of strain fields on flame propagation</td>\n",
       "      <td></td>\n",
       "      <td>Mendes-Lopes, J. M. C.</td>\n",
       "      <td>https://isni.org/isni/0000000133937105</td>\n",
       "      <td></td>\n",
       "      <td>University of Cambridge</td>\n",
       "      <td>https://isni.org/isni/0000000121885934</td>\n",
       "      <td>1983</td>\n",
       "      <td>Thesis (Ph.D.)</td>\n",
       "      <td>Flame propagation can be highly influenced by ...</td>\n",
       "      <td>Engineering &amp; Technology</td>\n",
       "      <td></td>\n",
       "      <td></td>\n",
       "      <td>https://ethos.bl.uk/OrderDetails.do?uin=uk.bl....</td>\n",
       "      <td></td>\n",
       "    </tr>\n",
       "    <tr>\n",
       "      <th>3</th>\n",
       "      <td>Connectivity, flow and transport in network mo...</td>\n",
       "      <td></td>\n",
       "      <td>Robinson, Peter Clive</td>\n",
       "      <td>https://isni.org/isni/0000000135292822</td>\n",
       "      <td></td>\n",
       "      <td>University of Oxford</td>\n",
       "      <td>https://isni.org/isni/0000000419368948</td>\n",
       "      <td>1984</td>\n",
       "      <td>Thesis (Ph.D.)</td>\n",
       "      <td>In order to evaluate the safety of radioactive...</td>\n",
       "      <td>Physical Sciences</td>\n",
       "      <td>Rae, John</td>\n",
       "      <td></td>\n",
       "      <td>https://ethos.bl.uk/OrderDetails.do?uin=uk.bl....</td>\n",
       "      <td>http://ora.ox.ac.uk/objects/uuid:c61bf73b-b794...</td>\n",
       "    </tr>\n",
       "    <tr>\n",
       "      <th>4</th>\n",
       "      <td>The theory and implementation of a high qualit...</td>\n",
       "      <td></td>\n",
       "      <td>Lower, K. N.</td>\n",
       "      <td>https://isni.org/isni/0000000136133567</td>\n",
       "      <td></td>\n",
       "      <td>University of Bristol</td>\n",
       "      <td>https://isni.org/isni/0000000419367603</td>\n",
       "      <td>1985</td>\n",
       "      <td>Thesis (Ph.D.)</td>\n",
       "      <td></td>\n",
       "      <td>Engineering &amp; Technology</td>\n",
       "      <td></td>\n",
       "      <td></td>\n",
       "      <td>https://ethos.bl.uk/OrderDetails.do?uin=uk.bl....</td>\n",
       "      <td></td>\n",
       "    </tr>\n",
       "  </tbody>\n",
       "</table>\n",
       "</div>"
      ],
      "text/plain": [
       "                                               Title DOI  \\\n",
       "0  Computation and measurement of turbulent flow ...       \n",
       "1  Prolactin and growth hormone secretion in norm...       \n",
       "2    Influence of strain fields on flame propagation       \n",
       "3  Connectivity, flow and transport in network mo...       \n",
       "4  The theory and implementation of a high qualit...       \n",
       "\n",
       "                   Author                             Author ISNI ORCID  \\\n",
       "0        Loizou, Panos A.  https://isni.org/isni/0000000136122593         \n",
       "1      Prescott, R. W. G.  https://isni.org/isni/0000000134992122         \n",
       "2  Mendes-Lopes, J. M. C.  https://isni.org/isni/0000000133937105         \n",
       "3   Robinson, Peter Clive  https://isni.org/isni/0000000135292822         \n",
       "4            Lower, K. N.  https://isni.org/isni/0000000136133567         \n",
       "\n",
       "                         Institution                        Institution ISNI  \\\n",
       "0           University of Manchester  https://isni.org/isni/0000000121662407   \n",
       "1  University of Newcastle upon Tyne  https://isni.org/isni/0000000104627212   \n",
       "2            University of Cambridge  https://isni.org/isni/0000000121885934   \n",
       "3               University of Oxford  https://isni.org/isni/0000000419368948   \n",
       "4              University of Bristol  https://isni.org/isni/0000000419367603   \n",
       "\n",
       "   Date   Qualification                                           Abstract  \\\n",
       "0  1989  Thesis (Ph.D.)                                                      \n",
       "1  1983  Thesis (Ph.D.)                                                      \n",
       "2  1983  Thesis (Ph.D.)  Flame propagation can be highly influenced by ...   \n",
       "3  1984  Thesis (Ph.D.)  In order to evaluate the safety of radioactive...   \n",
       "4  1985  Thesis (Ph.D.)                                                      \n",
       "\n",
       "         Subject Discipline Supervisor(s) Funder(s)  \\\n",
       "0         Physical Sciences                           \n",
       "1       Biological Sciences                           \n",
       "2  Engineering & Technology                           \n",
       "3         Physical Sciences     Rae, John             \n",
       "4  Engineering & Technology                           \n",
       "\n",
       "                                           EThOS URL  \\\n",
       "0  https://ethos.bl.uk/OrderDetails.do?uin=uk.bl....   \n",
       "1  https://ethos.bl.uk/OrderDetails.do?uin=uk.bl....   \n",
       "2  https://ethos.bl.uk/OrderDetails.do?uin=uk.bl....   \n",
       "3  https://ethos.bl.uk/OrderDetails.do?uin=uk.bl....   \n",
       "4  https://ethos.bl.uk/OrderDetails.do?uin=uk.bl....   \n",
       "\n",
       "                                              IR URL  \n",
       "0                                                     \n",
       "1                                                     \n",
       "2                                                     \n",
       "3  http://ora.ox.ac.uk/objects/uuid:c61bf73b-b794...  \n",
       "4                                                     "
      ]
     },
     "execution_count": 2,
     "metadata": {},
     "output_type": "execute_result"
    }
   ],
   "source": [
    "csv_file = \"../data/EThOS_CSV_202304.csv\"\n",
    "df = pd.read_csv(csv_file, encoding=\"ISO-8859-2\")\n",
    "df.head()"
   ]
  },
  {
   "cell_type": "code",
   "execution_count": 3,
   "id": "876bfd31",
   "metadata": {
    "scrolled": true
   },
   "outputs": [
    {
     "data": {
      "text/plain": [
       "627042"
      ]
     },
     "execution_count": 3,
     "metadata": {},
     "output_type": "execute_result"
    }
   ],
   "source": [
    "len(df)"
   ]
  },
  {
   "cell_type": "code",
   "execution_count": 4,
   "id": "412b0cf4",
   "metadata": {},
   "outputs": [
    {
     "data": {
      "text/plain": [
       "Index(['Title', 'DOI', 'Author', 'Author ISNI', 'ORCID', 'Institution',\n",
       "       'Institution ISNI', 'Date', 'Qualification', 'Abstract',\n",
       "       'Subject Discipline', 'Supervisor(s)', 'Funder(s)', 'EThOS URL',\n",
       "       'IR URL'],\n",
       "      dtype='object')"
      ]
     },
     "execution_count": 4,
     "metadata": {},
     "output_type": "execute_result"
    }
   ],
   "source": [
    "df.columns"
   ]
  },
  {
   "cell_type": "markdown",
   "id": "1be1c659",
   "metadata": {},
   "source": [
    "## Looking for NaNs"
   ]
  },
  {
   "cell_type": "code",
   "execution_count": 5,
   "id": "28650100",
   "metadata": {},
   "outputs": [
    {
     "name": "stdout",
     "output_type": "stream",
     "text": [
      "Number of rows with NaNs: 3\n"
     ]
    }
   ],
   "source": [
    "print(f\"Number of rows with NaNs: {df.isnull().any(axis=1).sum()}\")"
   ]
  },
  {
   "cell_type": "markdown",
   "id": "59222075",
   "metadata": {},
   "source": [
    "which columns do these occur?"
   ]
  },
  {
   "cell_type": "code",
   "execution_count": 6,
   "id": "aa972d6a",
   "metadata": {},
   "outputs": [
    {
     "data": {
      "text/plain": [
       "['Title: False',\n",
       " 'DOI: False',\n",
       " 'Author: False',\n",
       " 'Author ISNI: False',\n",
       " 'ORCID: False',\n",
       " 'Institution: False',\n",
       " 'Institution ISNI: False',\n",
       " 'Date: False',\n",
       " 'Qualification: False',\n",
       " 'Abstract: False',\n",
       " 'Subject Discipline: False',\n",
       " 'Supervisor(s): False',\n",
       " 'Funder(s): True',\n",
       " 'EThOS URL: False',\n",
       " 'IR URL: True']"
      ]
     },
     "execution_count": 6,
     "metadata": {},
     "output_type": "execute_result"
    }
   ],
   "source": [
    "[f\"{col}: {df[col].isnull().any()}\" for col in df.columns]"
   ]
  },
  {
   "cell_type": "markdown",
   "id": "7813b321",
   "metadata": {},
   "source": [
    "Looks like there's some in `Funder(s)` and `IR URL`..."
   ]
  },
  {
   "cell_type": "code",
   "execution_count": 7,
   "id": "c48fb483",
   "metadata": {},
   "outputs": [],
   "source": [
    "file = open(csv_file, encoding=\"ISO-8859-2\")\n",
    "content = file.readlines()"
   ]
  },
  {
   "cell_type": "markdown",
   "id": "60100922",
   "metadata": {},
   "source": [
    "## Fixing NaN in `IR URL` column"
   ]
  },
  {
   "cell_type": "code",
   "execution_count": 8,
   "id": "6aeb30c3",
   "metadata": {},
   "outputs": [
    {
     "data": {
      "text/html": [
       "<div>\n",
       "<style scoped>\n",
       "    .dataframe tbody tr th:only-of-type {\n",
       "        vertical-align: middle;\n",
       "    }\n",
       "\n",
       "    .dataframe tbody tr th {\n",
       "        vertical-align: top;\n",
       "    }\n",
       "\n",
       "    .dataframe thead th {\n",
       "        text-align: right;\n",
       "    }\n",
       "</style>\n",
       "<table border=\"1\" class=\"dataframe\">\n",
       "  <thead>\n",
       "    <tr style=\"text-align: right;\">\n",
       "      <th></th>\n",
       "      <th>Title</th>\n",
       "      <th>DOI</th>\n",
       "      <th>Author</th>\n",
       "      <th>Author ISNI</th>\n",
       "      <th>ORCID</th>\n",
       "      <th>Institution</th>\n",
       "      <th>Institution ISNI</th>\n",
       "      <th>Date</th>\n",
       "      <th>Qualification</th>\n",
       "      <th>Abstract</th>\n",
       "      <th>Subject Discipline</th>\n",
       "      <th>Supervisor(s)</th>\n",
       "      <th>Funder(s)</th>\n",
       "      <th>EThOS URL</th>\n",
       "      <th>IR URL</th>\n",
       "    </tr>\n",
       "  </thead>\n",
       "  <tbody>\n",
       "    <tr>\n",
       "      <th>278130</th>\n",
       "      <td>Archaeological Museums and Schools : Teaching ...</td>\n",
       "      <td>Arwa\"</td>\n",
       "      <td>https://isni.org/isni/0000000426923620</td>\n",
       "      <td></td>\n",
       "      <td>University of Newcastle upon Tyne</td>\n",
       "      <td>https://isni.org/isni/0000000104627212</td>\n",
       "      <td>2010</td>\n",
       "      <td>Thesis (Ph.D.)</td>\n",
       "      <td></td>\n",
       "      <td>Education</td>\n",
       "      <td></td>\n",
       "      <td></td>\n",
       "      <td>https://ethos.bl.uk/OrderDetails.do?uin=uk.bl....</td>\n",
       "      <td></td>\n",
       "      <td>NaN</td>\n",
       "    </tr>\n",
       "    <tr>\n",
       "      <th>353853</th>\n",
       "      <td>Shall I say 'tis so?' : Elizabethan fictions a...</td>\n",
       "      <td>J. K.\"</td>\n",
       "      <td></td>\n",
       "      <td></td>\n",
       "      <td>University of Cambridge</td>\n",
       "      <td>https://isni.org/isni/0000000121885934</td>\n",
       "      <td>2010</td>\n",
       "      <td>Thesis (Ph.D.)</td>\n",
       "      <td>This thesis concerns emergent representations ...</td>\n",
       "      <td>Language &amp; Literature</td>\n",
       "      <td></td>\n",
       "      <td></td>\n",
       "      <td>https://ethos.bl.uk/OrderDetails.do?uin=uk.bl....</td>\n",
       "      <td></td>\n",
       "      <td>NaN</td>\n",
       "    </tr>\n",
       "  </tbody>\n",
       "</table>\n",
       "</div>"
      ],
      "text/plain": [
       "                                                    Title      DOI  \\\n",
       "278130  Archaeological Museums and Schools : Teaching ...    Arwa\"   \n",
       "353853  Shall I say 'tis so?' : Elizabethan fictions a...   J. K.\"   \n",
       "\n",
       "                                        Author Author ISNI  \\\n",
       "278130  https://isni.org/isni/0000000426923620               \n",
       "353853                                                       \n",
       "\n",
       "                                    ORCID  \\\n",
       "278130  University of Newcastle upon Tyne   \n",
       "353853            University of Cambridge   \n",
       "\n",
       "                                   Institution Institution ISNI  \\\n",
       "278130  https://isni.org/isni/0000000104627212             2010   \n",
       "353853  https://isni.org/isni/0000000121885934             2010   \n",
       "\n",
       "                  Date                                      Qualification  \\\n",
       "278130  Thesis (Ph.D.)                                                      \n",
       "353853  Thesis (Ph.D.)  This thesis concerns emergent representations ...   \n",
       "\n",
       "                     Abstract Subject Discipline Supervisor(s)  \\\n",
       "278130              Education                                    \n",
       "353853  Language & Literature                                    \n",
       "\n",
       "                                                Funder(s) EThOS URL IR URL  \n",
       "278130  https://ethos.bl.uk/OrderDetails.do?uin=uk.bl....              NaN  \n",
       "353853  https://ethos.bl.uk/OrderDetails.do?uin=uk.bl....              NaN  "
      ]
     },
     "execution_count": 8,
     "metadata": {},
     "output_type": "execute_result"
    }
   ],
   "source": [
    "ir_url_nan = df[df[\"IR URL\"].isnull()]\n",
    "ir_url_nan"
   ]
  },
  {
   "cell_type": "code",
   "execution_count": 9,
   "id": "f14fda0a",
   "metadata": {},
   "outputs": [
    {
     "data": {
      "text/plain": [
       "'\"Archaeological Museums and Schools : Teaching Primary-Aged Children about the Past in Jordan, ,Badran\",\" Arwa\"\"\",https://isni.org/isni/0000000426923620, ,University of Newcastle upon Tyne,https://isni.org/isni/0000000104627212,2010,Thesis (Ph.D.), ,Education, , ,https://ethos.bl.uk/OrderDetails.do?uin=uk.bl.ethos.525065, ,\\n'"
      ]
     },
     "execution_count": 9,
     "metadata": {},
     "output_type": "execute_result"
    }
   ],
   "source": [
    "content[ir_url_nan.index[0] + 1]"
   ]
  },
  {
   "cell_type": "code",
   "execution_count": 10,
   "id": "a4628585",
   "metadata": {},
   "outputs": [
    {
     "data": {
      "text/plain": [
       "'\"Shall I say \\'tis so?\\' : Elizabethan fictions and the poetics of inquiry, ,Harmer\",\" J. K.\"\"\", , ,University of Cambridge,https://isni.org/isni/0000000121885934,2010,Thesis (Ph.D.),\"This thesis concerns emergent representations of psychological epistemology in Elizabethan fictions. For Elizabethan writers, does self-consciousness exist as consciousness of an actual <i>something</i> that makes meaning out of experience? The thesis explores how an Elizabethan poetics of inquiry develops this question on its own terms, seeking to represent and question the reality of an originary dialogic inner voice â\\x80\\x93 a voice in the head â\\x80\\x93 as the heuristic moment-to-moment experience of the self as a thinking thing. I argue that the problem of the reality, the <i>actualitĂŠ </i>of such an inner voice, fundamental to the history of the philosophy of mind, emerges as such for a range of major authors in fictions composed c.1580-97. My thesis aims accordingly to recover an understanding of how imaginative literature in this period conceptualised fundamental questions about the experience of consciousness itself. Literary writing is seen to address poetically, developmentally and variously central questions about the experience of human inquiry in ways that do not accrue to separate philosophical speculation during this period. Part 1 discusses the confusing and confusedly related idioms for self-perception ... (continues)\",Language & Literature, , ,https://ethos.bl.uk/OrderDetails.do?uin=uk.bl.ethos.603722, ,\\n'"
      ]
     },
     "execution_count": 10,
     "metadata": {},
     "output_type": "execute_result"
    }
   ],
   "source": [
    "content[ir_url_nan.index[1] + 1]"
   ]
  },
  {
   "cell_type": "markdown",
   "id": "b1af38c0",
   "metadata": {},
   "source": [
    "Seems like the problem here is that there is an unclosed quote at the start and so it misses out a column. We can fix this with the following:"
   ]
  },
  {
   "cell_type": "code",
   "execution_count": 11,
   "id": "58deb6cd",
   "metadata": {},
   "outputs": [],
   "source": [
    "def fix_IR_URL_null(df):\n",
    "    null_df = df[df[\"IR URL\"].isnull()]\n",
    "    for index, row in null_df.iterrows():\n",
    "        new_row = []\n",
    "        # Title\n",
    "        new_row.append(row[\"Title\"].split(\",\")[0])\n",
    "        # DOI\n",
    "        new_row.append(row[\"Title\"].split(\",\")[1])\n",
    "        # Author\n",
    "        first_name = row[\"Title\"].split(\",\")[2]\n",
    "        second_name = row[\"DOI\"][:-1]\n",
    "        new_row.append(first_name + second_name)\n",
    "        # Remaining columns\n",
    "        colnames = [col for col in df.columns\n",
    "                    if col not in [\"Title\", \"DOI\", \"IR URL\"]]\n",
    "        new_row += row[colnames].tolist()\n",
    "        df.loc[index] = new_row\n",
    "    return df\n",
    "\n",
    "df = fix_IR_URL_null(df)"
   ]
  },
  {
   "cell_type": "markdown",
   "id": "377555a8",
   "metadata": {},
   "source": [
    "## Fixing NaN in `Funder(s)` column"
   ]
  },
  {
   "cell_type": "code",
   "execution_count": 12,
   "id": "58229da2",
   "metadata": {
    "scrolled": true
   },
   "outputs": [
    {
     "data": {
      "text/html": [
       "<div>\n",
       "<style scoped>\n",
       "    .dataframe tbody tr th:only-of-type {\n",
       "        vertical-align: middle;\n",
       "    }\n",
       "\n",
       "    .dataframe tbody tr th {\n",
       "        vertical-align: top;\n",
       "    }\n",
       "\n",
       "    .dataframe thead th {\n",
       "        text-align: right;\n",
       "    }\n",
       "</style>\n",
       "<table border=\"1\" class=\"dataframe\">\n",
       "  <thead>\n",
       "    <tr style=\"text-align: right;\">\n",
       "      <th></th>\n",
       "      <th>Title</th>\n",
       "      <th>DOI</th>\n",
       "      <th>Author</th>\n",
       "      <th>Author ISNI</th>\n",
       "      <th>ORCID</th>\n",
       "      <th>Institution</th>\n",
       "      <th>Institution ISNI</th>\n",
       "      <th>Date</th>\n",
       "      <th>Qualification</th>\n",
       "      <th>Abstract</th>\n",
       "      <th>Subject Discipline</th>\n",
       "      <th>Supervisor(s)</th>\n",
       "      <th>Funder(s)</th>\n",
       "      <th>EThOS URL</th>\n",
       "      <th>IR URL</th>\n",
       "    </tr>\n",
       "  </thead>\n",
       "  <tbody>\n",
       "    <tr>\n",
       "      <th>272361</th>\n",
       "      <td>Integrated non-invasive investigations of capt...</td>\n",
       "      <td></td>\n",
       "      <td>Rabineau, Johanna Romy Maria</td>\n",
       "      <td>https://isni.org/isni/0000000426855875</td>\n",
       "      <td></td>\n",
       "      <td>University of Exeter</td>\n",
       "      <td>https://isni.org/isni/0000000419368024</td>\n",
       "      <td>2009</td>\n",
       "      <td>Thesis (Ph.D.)</td>\n",
       "      <td>The prime aim of the present study was to inve...</td>\n",
       "      <td>Biological Sciences</td>\n",
       "      <td>Brown, Anne</td>\n",
       "      <td>NaN</td>\n",
       "      <td>https://ethos.bl.uk/OrderDetails.do?uin=uk.bl....</td>\n",
       "      <td>http://hdl.handle.net/10036/106776</td>\n",
       "    </tr>\n",
       "  </tbody>\n",
       "</table>\n",
       "</div>"
      ],
      "text/plain": [
       "                                                    Title DOI  \\\n",
       "272361  Integrated non-invasive investigations of capt...       \n",
       "\n",
       "                              Author                             Author ISNI  \\\n",
       "272361  Rabineau, Johanna Romy Maria  https://isni.org/isni/0000000426855875   \n",
       "\n",
       "       ORCID           Institution                        Institution ISNI  \\\n",
       "272361        University of Exeter  https://isni.org/isni/0000000419368024   \n",
       "\n",
       "        Date   Qualification  \\\n",
       "272361  2009  Thesis (Ph.D.)   \n",
       "\n",
       "                                                 Abstract  \\\n",
       "272361  The prime aim of the present study was to inve...   \n",
       "\n",
       "         Subject Discipline Supervisor(s) Funder(s)  \\\n",
       "272361  Biological Sciences   Brown, Anne       NaN   \n",
       "\n",
       "                                                EThOS URL  \\\n",
       "272361  https://ethos.bl.uk/OrderDetails.do?uin=uk.bl....   \n",
       "\n",
       "                                    IR URL  \n",
       "272361  http://hdl.handle.net/10036/106776  "
      ]
     },
     "execution_count": 12,
     "metadata": {},
     "output_type": "execute_result"
    }
   ],
   "source": [
    "funder_nan = df[df[\"Funder(s)\"].isnull()]\n",
    "funder_nan"
   ]
  },
  {
   "cell_type": "code",
   "execution_count": null,
   "metadata": {},
   "outputs": [],
   "source": []
  },
  {
   "cell_type": "code",
   "execution_count": 13,
   "id": "9fa65ed8",
   "metadata": {},
   "outputs": [
    {
     "data": {
      "text/plain": [
       "'\"Integrated non-invasive investigations of captive Abyssinian colobus monkeys (Colobus guereza) : behaviour, stress and parasitism\", ,\"Rabineau, Johanna Romy Maria\",https://isni.org/isni/0000000426855875, ,University of Exeter,https://isni.org/isni/0000000419368024,2009,Thesis (Ph.D.),\"The prime aim of the present study was to investigate the welfare of Abyssinian colobus monkeys (Colobus guereza kikuyuensis) held in captivity, by behavioural, endocrinological and parasitological approaches. Five groups of colobus monkeys were studied, in the UK at Port Lympne Zoo, Banham Zoo and Paignton Zoo (separate male and female groups) and in France at La BoissiĂ¨re du DorĂŠ Zoo. Overall, the patterns of behavioural activity for captive colobus monkeys agree with observations of wild colobus monkeys, suggesting that there was generally good welfare at all zoos. However, local differences in group composition (i.e. age and gender) or management practices were shown to affect activity budgets. At Banham Zoo, where colobus monkeys had access to a large paddock and food was offered only twice a day, animals spent significantly more time foraging/feeding than other groups which received three meals a day. At Paignton Zoo (adult male only group) animals spent more time resting alone and less time resting socially or being social than other zoos. Generally, across zoos, older, higher ranking animals spent less time moving and more time feeding than younger, more subordinate ones. Social dominance rank and ... (continues)\",Biological Sciences,\"Brown, Anne\",n/a,https://ethos.bl.uk/OrderDetails.do?uin=uk.bl.ethos.518848,http://hdl.handle.net/10036/106776\\n'"
      ]
     },
     "execution_count": 13,
     "metadata": {},
     "output_type": "execute_result"
    }
   ],
   "source": [
    "content[funder_nan.index[0] + 1]"
   ]
  },
  {
   "cell_type": "markdown",
   "id": "60e42b60",
   "metadata": {},
   "source": [
    "Looks like `'n/a'` was put in the Funder(s) column rather than a `' '` current convention in this dataset for denoting missing data, so we'll just fix this by replacing anymore NaNs with empty spaces."
   ]
  },
  {
   "cell_type": "code",
   "execution_count": 14,
   "id": "5ba64a43",
   "metadata": {},
   "outputs": [],
   "source": [
    "df.fillna(' ', inplace=True)"
   ]
  },
  {
   "cell_type": "markdown",
   "id": "15268653",
   "metadata": {},
   "source": [
    "Just to double check that we've fixed the NaNs:"
   ]
  },
  {
   "cell_type": "code",
   "execution_count": 15,
   "id": "c684331a",
   "metadata": {},
   "outputs": [
    {
     "name": "stdout",
     "output_type": "stream",
     "text": [
      "Number of rows with NaNs: 0\n"
     ]
    }
   ],
   "source": [
    "print(f\"Number of rows with NaNs: {df.isnull().any(axis=1).sum()}\")"
   ]
  },
  {
   "cell_type": "code",
   "execution_count": 16,
   "id": "2b1dc0b1",
   "metadata": {},
   "outputs": [
    {
     "data": {
      "text/plain": [
       "False"
      ]
     },
     "execution_count": 16,
     "metadata": {},
     "output_type": "execute_result"
    }
   ],
   "source": [
    "df.isnull().any().any()"
   ]
  },
  {
   "cell_type": "markdown",
   "id": "0f345742",
   "metadata": {},
   "source": [
    "## Generating cleaned dataset"
   ]
  },
  {
   "cell_type": "markdown",
   "id": "f6e12179",
   "metadata": {},
   "source": [
    "To do this in one go, the following function in does both of these steps in one go and we will save this cleaned version in the same directory."
   ]
  },
  {
   "cell_type": "code",
   "execution_count": 17,
   "id": "f4629227",
   "metadata": {},
   "outputs": [],
   "source": [
    "def clean_ethos_2023(csv_filename: str, destination_filname: str | None = None) -> pd.DataFrame:\n",
    "    # load csv as dataframe\n",
    "    df = pd.read_csv(csv_filename, encoding=\"ISO-8859-2\")\n",
    "    \n",
    "    # Fix IR URL NaNs\n",
    "    null_df = df[df[\"IR URL\"].isnull()]\n",
    "    for index, row in null_df.iterrows():\n",
    "        new_row = []\n",
    "        # Title\n",
    "        new_row.append(row[\"Title\"].split(\",\")[0])\n",
    "        # DOI\n",
    "        new_row.append(row[\"Title\"].split(\",\")[1])\n",
    "        # Author\n",
    "        first_name = row[\"Title\"].split(\",\")[2]\n",
    "        second_name = row[\"DOI\"][:-1]\n",
    "        new_row.append(first_name + second_name)\n",
    "        # Remaining columns\n",
    "        colnames = [col for col in df.columns\n",
    "                    if col not in [\"Title\", \"DOI\", \"IR URL\"]]\n",
    "        new_row += row[colnames].tolist()\n",
    "        df.loc[index] = new_row\n",
    "\n",
    "    # Remove other NaNs (e.g. Funder(s))\n",
    "    df = df.fillna(' ')\n",
    "    \n",
    "    if destination_filname is not None:\n",
    "        # save cleaned dataframe as csv\n",
    "        print(f\"Saving cleaned dataframe to {destination_filname}\")\n",
    "        df.to_csv(f\"{destination_filname}\")\n",
    "\n",
    "    return df"
   ]
  },
  {
   "cell_type": "code",
   "execution_count": 18,
   "id": "b0f643db",
   "metadata": {},
   "outputs": [
    {
     "name": "stderr",
     "output_type": "stream",
     "text": [
      "/var/folders/l7/bnn1j6bs3bqfskq2jlq55yh80000gr/T/ipykernel_31550/1108316318.py:3: DtypeWarning: Columns (7) have mixed types. Specify dtype option on import or set low_memory=False.\n",
      "  df = pd.read_csv(csv_filename, encoding=\"ISO-8859-2\")\n"
     ]
    },
    {
     "name": "stdout",
     "output_type": "stream",
     "text": [
      "Saving cleaned dataframe to ../data/cleaned_EThOS_CSV_202304.csv\n"
     ]
    }
   ],
   "source": [
    "dest = \"../data/cleaned_EThOS_CSV_202304.csv\"\n",
    "cleaned_df = clean_ethos_2023(csv_file, dest)"
   ]
  },
  {
   "cell_type": "code",
   "execution_count": 19,
   "id": "def75940",
   "metadata": {},
   "outputs": [
    {
     "data": {
      "text/html": [
       "<div>\n",
       "<style scoped>\n",
       "    .dataframe tbody tr th:only-of-type {\n",
       "        vertical-align: middle;\n",
       "    }\n",
       "\n",
       "    .dataframe tbody tr th {\n",
       "        vertical-align: top;\n",
       "    }\n",
       "\n",
       "    .dataframe thead th {\n",
       "        text-align: right;\n",
       "    }\n",
       "</style>\n",
       "<table border=\"1\" class=\"dataframe\">\n",
       "  <thead>\n",
       "    <tr style=\"text-align: right;\">\n",
       "      <th></th>\n",
       "      <th>Title</th>\n",
       "      <th>DOI</th>\n",
       "      <th>Author</th>\n",
       "      <th>Author ISNI</th>\n",
       "      <th>ORCID</th>\n",
       "      <th>Institution</th>\n",
       "      <th>Institution ISNI</th>\n",
       "      <th>Date</th>\n",
       "      <th>Qualification</th>\n",
       "      <th>Abstract</th>\n",
       "      <th>Subject Discipline</th>\n",
       "      <th>Supervisor(s)</th>\n",
       "      <th>Funder(s)</th>\n",
       "      <th>EThOS URL</th>\n",
       "      <th>IR URL</th>\n",
       "    </tr>\n",
       "  </thead>\n",
       "  <tbody>\n",
       "    <tr>\n",
       "      <th>0</th>\n",
       "      <td>Computation and measurement of turbulent flow ...</td>\n",
       "      <td></td>\n",
       "      <td>Loizou, Panos A.</td>\n",
       "      <td>https://isni.org/isni/0000000136122593</td>\n",
       "      <td></td>\n",
       "      <td>University of Manchester</td>\n",
       "      <td>https://isni.org/isni/0000000121662407</td>\n",
       "      <td>1989</td>\n",
       "      <td>Thesis (Ph.D.)</td>\n",
       "      <td></td>\n",
       "      <td>Physical Sciences</td>\n",
       "      <td></td>\n",
       "      <td></td>\n",
       "      <td>https://ethos.bl.uk/OrderDetails.do?uin=uk.bl....</td>\n",
       "      <td></td>\n",
       "    </tr>\n",
       "    <tr>\n",
       "      <th>1</th>\n",
       "      <td>Prolactin and growth hormone secretion in norm...</td>\n",
       "      <td></td>\n",
       "      <td>Prescott, R. W. G.</td>\n",
       "      <td>https://isni.org/isni/0000000134992122</td>\n",
       "      <td></td>\n",
       "      <td>University of Newcastle upon Tyne</td>\n",
       "      <td>https://isni.org/isni/0000000104627212</td>\n",
       "      <td>1983</td>\n",
       "      <td>Thesis (Ph.D.)</td>\n",
       "      <td></td>\n",
       "      <td>Biological Sciences</td>\n",
       "      <td></td>\n",
       "      <td></td>\n",
       "      <td>https://ethos.bl.uk/OrderDetails.do?uin=uk.bl....</td>\n",
       "      <td></td>\n",
       "    </tr>\n",
       "    <tr>\n",
       "      <th>2</th>\n",
       "      <td>Influence of strain fields on flame propagation</td>\n",
       "      <td></td>\n",
       "      <td>Mendes-Lopes, J. M. C.</td>\n",
       "      <td>https://isni.org/isni/0000000133937105</td>\n",
       "      <td></td>\n",
       "      <td>University of Cambridge</td>\n",
       "      <td>https://isni.org/isni/0000000121885934</td>\n",
       "      <td>1983</td>\n",
       "      <td>Thesis (Ph.D.)</td>\n",
       "      <td>Flame propagation can be highly influenced by ...</td>\n",
       "      <td>Engineering &amp; Technology</td>\n",
       "      <td></td>\n",
       "      <td></td>\n",
       "      <td>https://ethos.bl.uk/OrderDetails.do?uin=uk.bl....</td>\n",
       "      <td></td>\n",
       "    </tr>\n",
       "    <tr>\n",
       "      <th>3</th>\n",
       "      <td>Connectivity, flow and transport in network mo...</td>\n",
       "      <td></td>\n",
       "      <td>Robinson, Peter Clive</td>\n",
       "      <td>https://isni.org/isni/0000000135292822</td>\n",
       "      <td></td>\n",
       "      <td>University of Oxford</td>\n",
       "      <td>https://isni.org/isni/0000000419368948</td>\n",
       "      <td>1984</td>\n",
       "      <td>Thesis (Ph.D.)</td>\n",
       "      <td>In order to evaluate the safety of radioactive...</td>\n",
       "      <td>Physical Sciences</td>\n",
       "      <td>Rae, John</td>\n",
       "      <td></td>\n",
       "      <td>https://ethos.bl.uk/OrderDetails.do?uin=uk.bl....</td>\n",
       "      <td>http://ora.ox.ac.uk/objects/uuid:c61bf73b-b794...</td>\n",
       "    </tr>\n",
       "    <tr>\n",
       "      <th>4</th>\n",
       "      <td>The theory and implementation of a high qualit...</td>\n",
       "      <td></td>\n",
       "      <td>Lower, K. N.</td>\n",
       "      <td>https://isni.org/isni/0000000136133567</td>\n",
       "      <td></td>\n",
       "      <td>University of Bristol</td>\n",
       "      <td>https://isni.org/isni/0000000419367603</td>\n",
       "      <td>1985</td>\n",
       "      <td>Thesis (Ph.D.)</td>\n",
       "      <td></td>\n",
       "      <td>Engineering &amp; Technology</td>\n",
       "      <td></td>\n",
       "      <td></td>\n",
       "      <td>https://ethos.bl.uk/OrderDetails.do?uin=uk.bl....</td>\n",
       "      <td></td>\n",
       "    </tr>\n",
       "    <tr>\n",
       "      <th>...</th>\n",
       "      <td>...</td>\n",
       "      <td>...</td>\n",
       "      <td>...</td>\n",
       "      <td>...</td>\n",
       "      <td>...</td>\n",
       "      <td>...</td>\n",
       "      <td>...</td>\n",
       "      <td>...</td>\n",
       "      <td>...</td>\n",
       "      <td>...</td>\n",
       "      <td>...</td>\n",
       "      <td>...</td>\n",
       "      <td>...</td>\n",
       "      <td>...</td>\n",
       "      <td>...</td>\n",
       "    </tr>\n",
       "    <tr>\n",
       "      <th>627037</th>\n",
       "      <td>Studies of decision making under risk and unce...</td>\n",
       "      <td></td>\n",
       "      <td>Lin, Lihui</td>\n",
       "      <td></td>\n",
       "      <td></td>\n",
       "      <td>University of York</td>\n",
       "      <td>https://isni.org/isni/0000000419369668</td>\n",
       "      <td>2023</td>\n",
       "      <td>Thesis (Ph.D.)</td>\n",
       "      <td>This dissertation experimentally examines how ...</td>\n",
       "      <td></td>\n",
       "      <td>Hey, John ; Ju, Yuan</td>\n",
       "      <td></td>\n",
       "      <td>https://ethos.bl.uk/OrderDetails.do?uin=uk.bl....</td>\n",
       "      <td>https://etheses.whiterose.ac.uk/32533/</td>\n",
       "    </tr>\n",
       "    <tr>\n",
       "      <th>627038</th>\n",
       "      <td>Towards an integrated microalgal biorefinery</td>\n",
       "      <td></td>\n",
       "      <td>Zitzmann, Frederik</td>\n",
       "      <td></td>\n",
       "      <td>https://orcid.org/0000000173153989</td>\n",
       "      <td>University of York</td>\n",
       "      <td>https://isni.org/isni/0000000419369668</td>\n",
       "      <td>2023</td>\n",
       "      <td>Thesis (Ph.D.)</td>\n",
       "      <td>This research explores the valorisation of a p...</td>\n",
       "      <td></td>\n",
       "      <td>Matharu, Avtar</td>\n",
       "      <td></td>\n",
       "      <td>https://ethos.bl.uk/OrderDetails.do?uin=uk.bl....</td>\n",
       "      <td>https://etheses.whiterose.ac.uk/32609/</td>\n",
       "    </tr>\n",
       "    <tr>\n",
       "      <th>627039</th>\n",
       "      <td>Unravelling the mechanistic complexity in cata...</td>\n",
       "      <td></td>\n",
       "      <td>Jeddi, Neda</td>\n",
       "      <td></td>\n",
       "      <td>https://orcid.org/000000034614116X</td>\n",
       "      <td>University of York</td>\n",
       "      <td>https://isni.org/isni/0000000419369668</td>\n",
       "      <td>2023</td>\n",
       "      <td>Thesis (Ph.D.)</td>\n",
       "      <td></td>\n",
       "      <td></td>\n",
       "      <td>Fairlamb, Ian</td>\n",
       "      <td>Wild Fund</td>\n",
       "      <td>https://ethos.bl.uk/OrderDetails.do?uin=uk.bl....</td>\n",
       "      <td>https://etheses.whiterose.ac.uk/32689/</td>\n",
       "    </tr>\n",
       "    <tr>\n",
       "      <th>627040</th>\n",
       "      <td>Accounting for health opportunity costs in key...</td>\n",
       "      <td></td>\n",
       "      <td>Ochalek, Jessica</td>\n",
       "      <td></td>\n",
       "      <td></td>\n",
       "      <td>University of York</td>\n",
       "      <td>https://isni.org/isni/0000000419369668</td>\n",
       "      <td>2023</td>\n",
       "      <td>Thesis (Ph.D.)</td>\n",
       "      <td>The concept of opportunity cost is fundamental...</td>\n",
       "      <td></td>\n",
       "      <td>Claxton, Karl ; Sculpher, Mark</td>\n",
       "      <td>Bill and Melinda Gates Foundation ; UK Researc...</td>\n",
       "      <td>https://ethos.bl.uk/OrderDetails.do?uin=uk.bl....</td>\n",
       "      <td>https://etheses.whiterose.ac.uk/32697/</td>\n",
       "    </tr>\n",
       "    <tr>\n",
       "      <th>627041</th>\n",
       "      <td>Exploring children's experiences of staying in...</td>\n",
       "      <td></td>\n",
       "      <td>Clarke, Sonya</td>\n",
       "      <td></td>\n",
       "      <td></td>\n",
       "      <td>Queen's University Belfast</td>\n",
       "      <td>https://isni.org/isni/0000000403747521</td>\n",
       "      <td>2018</td>\n",
       "      <td>Thesis (Ph.D.)</td>\n",
       "      <td></td>\n",
       "      <td></td>\n",
       "      <td></td>\n",
       "      <td></td>\n",
       "      <td>https://ethos.bl.uk/OrderDetails.do?uin=uk.bl....</td>\n",
       "      <td></td>\n",
       "    </tr>\n",
       "  </tbody>\n",
       "</table>\n",
       "<p>627042 rows × 15 columns</p>\n",
       "</div>"
      ],
      "text/plain": [
       "                                                    Title DOI  \\\n",
       "0       Computation and measurement of turbulent flow ...       \n",
       "1       Prolactin and growth hormone secretion in norm...       \n",
       "2         Influence of strain fields on flame propagation       \n",
       "3       Connectivity, flow and transport in network mo...       \n",
       "4       The theory and implementation of a high qualit...       \n",
       "...                                                   ...  ..   \n",
       "627037  Studies of decision making under risk and unce...       \n",
       "627038       Towards an integrated microalgal biorefinery       \n",
       "627039  Unravelling the mechanistic complexity in cata...       \n",
       "627040  Accounting for health opportunity costs in key...       \n",
       "627041  Exploring children's experiences of staying in...       \n",
       "\n",
       "                        Author                             Author ISNI  \\\n",
       "0             Loizou, Panos A.  https://isni.org/isni/0000000136122593   \n",
       "1           Prescott, R. W. G.  https://isni.org/isni/0000000134992122   \n",
       "2       Mendes-Lopes, J. M. C.  https://isni.org/isni/0000000133937105   \n",
       "3        Robinson, Peter Clive  https://isni.org/isni/0000000135292822   \n",
       "4                 Lower, K. N.  https://isni.org/isni/0000000136133567   \n",
       "...                        ...                                     ...   \n",
       "627037              Lin, Lihui                                           \n",
       "627038      Zitzmann, Frederik                                           \n",
       "627039             Jeddi, Neda                                           \n",
       "627040        Ochalek, Jessica                                           \n",
       "627041           Clarke, Sonya                                           \n",
       "\n",
       "                                     ORCID                        Institution  \\\n",
       "0                                                    University of Manchester   \n",
       "1                                           University of Newcastle upon Tyne   \n",
       "2                                                     University of Cambridge   \n",
       "3                                                        University of Oxford   \n",
       "4                                                       University of Bristol   \n",
       "...                                    ...                                ...   \n",
       "627037                                                     University of York   \n",
       "627038  https://orcid.org/0000000173153989                 University of York   \n",
       "627039  https://orcid.org/000000034614116X                 University of York   \n",
       "627040                                                     University of York   \n",
       "627041                                             Queen's University Belfast   \n",
       "\n",
       "                              Institution ISNI  Date   Qualification  \\\n",
       "0       https://isni.org/isni/0000000121662407  1989  Thesis (Ph.D.)   \n",
       "1       https://isni.org/isni/0000000104627212  1983  Thesis (Ph.D.)   \n",
       "2       https://isni.org/isni/0000000121885934  1983  Thesis (Ph.D.)   \n",
       "3       https://isni.org/isni/0000000419368948  1984  Thesis (Ph.D.)   \n",
       "4       https://isni.org/isni/0000000419367603  1985  Thesis (Ph.D.)   \n",
       "...                                        ...   ...             ...   \n",
       "627037  https://isni.org/isni/0000000419369668  2023  Thesis (Ph.D.)   \n",
       "627038  https://isni.org/isni/0000000419369668  2023  Thesis (Ph.D.)   \n",
       "627039  https://isni.org/isni/0000000419369668  2023  Thesis (Ph.D.)   \n",
       "627040  https://isni.org/isni/0000000419369668  2023  Thesis (Ph.D.)   \n",
       "627041  https://isni.org/isni/0000000403747521  2018  Thesis (Ph.D.)   \n",
       "\n",
       "                                                 Abstract  \\\n",
       "0                                                           \n",
       "1                                                           \n",
       "2       Flame propagation can be highly influenced by ...   \n",
       "3       In order to evaluate the safety of radioactive...   \n",
       "4                                                           \n",
       "...                                                   ...   \n",
       "627037  This dissertation experimentally examines how ...   \n",
       "627038  This research explores the valorisation of a p...   \n",
       "627039                                                      \n",
       "627040  The concept of opportunity cost is fundamental...   \n",
       "627041                                                      \n",
       "\n",
       "              Subject Discipline                   Supervisor(s)  \\\n",
       "0              Physical Sciences                                   \n",
       "1            Biological Sciences                                   \n",
       "2       Engineering & Technology                                   \n",
       "3              Physical Sciences                       Rae, John   \n",
       "4       Engineering & Technology                                   \n",
       "...                          ...                             ...   \n",
       "627037                                      Hey, John ; Ju, Yuan   \n",
       "627038                                            Matharu, Avtar   \n",
       "627039                                             Fairlamb, Ian   \n",
       "627040                            Claxton, Karl ; Sculpher, Mark   \n",
       "627041                                                             \n",
       "\n",
       "                                                Funder(s)  \\\n",
       "0                                                           \n",
       "1                                                           \n",
       "2                                                           \n",
       "3                                                           \n",
       "4                                                           \n",
       "...                                                   ...   \n",
       "627037                                                      \n",
       "627038                                                      \n",
       "627039                                          Wild Fund   \n",
       "627040  Bill and Melinda Gates Foundation ; UK Researc...   \n",
       "627041                                                      \n",
       "\n",
       "                                                EThOS URL  \\\n",
       "0       https://ethos.bl.uk/OrderDetails.do?uin=uk.bl....   \n",
       "1       https://ethos.bl.uk/OrderDetails.do?uin=uk.bl....   \n",
       "2       https://ethos.bl.uk/OrderDetails.do?uin=uk.bl....   \n",
       "3       https://ethos.bl.uk/OrderDetails.do?uin=uk.bl....   \n",
       "4       https://ethos.bl.uk/OrderDetails.do?uin=uk.bl....   \n",
       "...                                                   ...   \n",
       "627037  https://ethos.bl.uk/OrderDetails.do?uin=uk.bl....   \n",
       "627038  https://ethos.bl.uk/OrderDetails.do?uin=uk.bl....   \n",
       "627039  https://ethos.bl.uk/OrderDetails.do?uin=uk.bl....   \n",
       "627040  https://ethos.bl.uk/OrderDetails.do?uin=uk.bl....   \n",
       "627041  https://ethos.bl.uk/OrderDetails.do?uin=uk.bl....   \n",
       "\n",
       "                                                   IR URL  \n",
       "0                                                          \n",
       "1                                                          \n",
       "2                                                          \n",
       "3       http://ora.ox.ac.uk/objects/uuid:c61bf73b-b794...  \n",
       "4                                                          \n",
       "...                                                   ...  \n",
       "627037             https://etheses.whiterose.ac.uk/32533/  \n",
       "627038             https://etheses.whiterose.ac.uk/32609/  \n",
       "627039             https://etheses.whiterose.ac.uk/32689/  \n",
       "627040             https://etheses.whiterose.ac.uk/32697/  \n",
       "627041                                                     \n",
       "\n",
       "[627042 rows x 15 columns]"
      ]
     },
     "execution_count": 19,
     "metadata": {},
     "output_type": "execute_result"
    }
   ],
   "source": [
    "cleaned_df"
   ]
  },
  {
   "cell_type": "code",
   "execution_count": 20,
   "id": "d937cd49",
   "metadata": {},
   "outputs": [
    {
     "data": {
      "text/plain": [
       "False"
      ]
     },
     "execution_count": 20,
     "metadata": {},
     "output_type": "execute_result"
    }
   ],
   "source": [
    "cleaned_df.isnull().any().any()"
   ]
  }
 ],
 "metadata": {
  "kernelspec": {
   "display_name": "ethostds",
   "language": "python",
   "name": "python3"
  },
  "language_info": {
   "codemirror_mode": {
    "name": "ipython",
    "version": 3
   },
   "file_extension": ".py",
   "mimetype": "text/x-python",
   "name": "python",
   "nbconvert_exporter": "python",
   "pygments_lexer": "ipython3",
   "version": "3.10.13"
  }
 },
 "nbformat": 4,
 "nbformat_minor": 5
}
