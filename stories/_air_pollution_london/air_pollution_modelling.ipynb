{
 "cells": [
  {
   "cell_type": "markdown",
   "metadata": {
    "collapsed": true,
    "id": "9gBciCiV2Bt2",
    "pycharm": {
     "name": "#%% md\n"
    }
   },
   "source": [
    "# Can we use ground sensors to evaluate London residence's exposure to high air pollution?\n",
    "categories: [data wrangling, data exploration]\n",
    "\n",
    "### ✍️ Authors\n",
    "- Christina Last. [The Alan Turing Institute](https://www.turing.ac.uk/people/research-engineering/christina-last).\n",
    "GitHub: [@ChristinaLast](https://github.com/ChristinaLast/) Twitter: [@last_christina](https://twitter.com/last_christina)\n",
    "- Gantugs | gantugs.atarsaikhan@human.ait.kyushu-u.ac.jp | @gttugsuu\n",
    "- Bill Finnegan | \n",
    "\n",
    "All the authors above contributed to this data story story with ideas, code development and story telling.\n",
    "\n",
    "### 🧐 Reviewers\n",
    "- [insert name here]\n",
    "\n",
    "## 💨 London air quality\n",
    "Some of the main drivers of climate change result in poor air quality in urban areas. While climate change is abstract and global, air quality is local and personal:\n",
    "a few years back, poor air quality was reported outside thousands of schools in the UK a recent legal ruling determined that air pollution was the cause of death for an 8-year-old London girl\n",
    "the Mayor of London has plans to reduce air pollution at schools\n",
    "\n",
    "The story reveals which communities are most impacted by air pollution in London. It also explores the risk of walking to school by different routes, and possibly looking over time at locations where school street schemes have been implemented."
   ]
  },
  {
   "cell_type": "markdown",
   "metadata": {
    "id": "bdSznnjG2Bt6",
    "pycharm": {
     "name": "#%% md\n"
    }
   },
   "source": [
    "### 💨 Downloading the air quality data locally\n",
    "This Turing Data Story uses data from [Global Clean Air](https://www.globalcleanair.org/innovative-air-quality-monitoring/london-uk/breathe-london-data/).\n",
    "The Data is available to download from the link.\n",
    "\n",
    "### 🪜 Analysis Outline\n",
    "1. Download and process data from PM2.5 and NO2 data\n",
    "2. Combine the different datasets into a single table by joining on datetime.\n",
    "    Calculate age standardised mortality rates from mortality counts.\n",
    "    Replicate the ONS analysis, looking at mortality rate by region.\n",
    "    Visualise the distribution of COVID-19 deaths across the UK.\n",
    "    Segment the data into time periods, corresponding to the different stages of lockdown.\n",
    "    Explore at the relationship between our two key metrics (deprivation and mortality rates) in the different time periods.\n",
    "\n",
    "### Story\n",
    "- Looking at PM2.5 and NO2 data and the location of junctions and high values\n",
    "\n",
    "#### Current improvement TODOs:\n",
    "##### Visualisations\n",
    "- [ ] Add title\n",
    "- [ ] add x/y labels\n",
    "\n",
    "##### Modelling\n",
    "- [ ] explore interaction between schools and high values\n",
    "\n",
    "##### Miscellaneous\n",
    "- [ ] find out what causes the NO2 spike in early August/early September"
   ]
  },
  {
   "cell_type": "markdown",
   "metadata": {
    "id": "eInleOMt2Bt8",
    "pycharm": {
     "name": "#%% md\n"
    }
   },
   "source": [
    "## 🔧 Setup\n",
    "\n",
    "We begin by setting up our environment and importing various python libraries that we will be using for the analysis.\n",
    "In particular, `pandas` and `numpy` are key data science libraries used for data processing. `matplotlib` and `seaborn` will help us visualise our data.\n",
    "\n",
    "### 📊 Data Exploration\n",
    "We are using data from [Global Clean Air](https://www.globalcleanair.org/innovative-air-quality-monitoring/london-uk/breathe-london-data/)\n",
    "which contains information about pollution’s health effects, as well as readily available — and understandable — air pollution data and analysis.\n",
    "The Breathe London pilot project mapped and measured pollution across the capital, led for two years by Environmental Defense Fund Europe and launched in partnership with the Mayor of London and leading science and technology experts.\n",
    "\n",
    "The dataset contains more than 100 lower-cost sensor pods and specially-equipped Google Street View cars,\n",
    "Breathe London complemented and expanded upon London’s existing monitoring networks.\n",
    "The project aimed to help people better understand their local air quality and support cities around the world with future monitoring initiatives.\n",
    "\n",
    "### 📖 Reading in the Data\n",
    "To connect the data with google Colab notebook, you will need to make a copy of the `Stories` folder in your drive. Please go to  `Shared with me` tab in your google drive, right click the `Stories` folder and click `Make a copy`. The following commands will now enable you to read in the data from gdrive."
   ]
  },
  {
   "cell_type": "code",
   "execution_count": 100,
   "metadata": {
    "id": "VjP3oZzg2Bt-",
    "pycharm": {
     "name": "#%%\n"
    }
   },
   "outputs": [],
   "source": [
    "# If reading in from a local filespace\n",
    "from typing import Any\n",
    "from pathlib import Path\n",
    "\n",
    "# reading in the data\n",
    "import pandas as pd\n",
    "\n",
    "root_data_path = Path(\"data\")\n",
    "\n",
    "def read_local_data(data_dir, filename):\n",
    "    data_path = Path(str(data_dir)+filename).absolute()\n",
    "    return pd.read_csv(data_path)\n",
    "\n",
    "pm25_metadata = read_local_data(root_data_path, \"/PM2_5_site_metadata_20180901_20201130.csv\")\n",
    "pm25_full_network = read_local_data(root_data_path, \"/20180901_20201130_PM2_5_AQMesh_Scaled_Dataset_UGM3.csv\")\n",
    "no2_metadata = read_local_data(root_data_path, \"/NO2_site_metadata_20180901_20201130.csv\")\n",
    "no2_full_network = read_local_data(root_data_path, \"/20180901_20201130_NO2_AQMesh_Scaled_Dataset_UGM3.csv\")"
   ]
  },
  {
   "cell_type": "code",
   "execution_count": 58,
   "metadata": {
    "colab": {
     "base_uri": "https://localhost:8080/",
     "height": 313
    },
    "id": "G6Wk3UYS2Bt_",
    "outputId": "24f04c82-5626-4c8b-dc88-e3d7f6f5579d",
    "pycharm": {
     "name": "#%% #Displaying forst 5 rows of the PM2.5 metadata\n"
    }
   },
   "outputs": [
    {
     "data": {
      "text/html": [
       "<div>\n",
       "<style scoped>\n",
       "    .dataframe tbody tr th:only-of-type {\n",
       "        vertical-align: middle;\n",
       "    }\n",
       "\n",
       "    .dataframe tbody tr th {\n",
       "        vertical-align: top;\n",
       "    }\n",
       "\n",
       "    .dataframe thead th {\n",
       "        text-align: right;\n",
       "    }\n",
       "</style>\n",
       "<table border=\"1\" class=\"dataframe\">\n",
       "  <thead>\n",
       "    <tr style=\"text-align: right;\">\n",
       "      <th></th>\n",
       "      <th>pod_id_location</th>\n",
       "      <th>start_date_UTC</th>\n",
       "      <th>end_date_UTC</th>\n",
       "      <th>relocate_date_UTC</th>\n",
       "      <th>location_name</th>\n",
       "      <th>Borough</th>\n",
       "      <th>Type</th>\n",
       "      <th>ULEZ</th>\n",
       "      <th>Latitude</th>\n",
       "      <th>Longitude</th>\n",
       "      <th>X_Coord</th>\n",
       "      <th>Y_Coord</th>\n",
       "      <th>Distance_from_Road</th>\n",
       "      <th>Height</th>\n",
       "      <th>Site_Type</th>\n",
       "    </tr>\n",
       "  </thead>\n",
       "  <tbody>\n",
       "    <tr>\n",
       "      <th>0</th>\n",
       "      <td>1245</td>\n",
       "      <td>15/02/2019 12:00</td>\n",
       "      <td>30/11/2020 23:59</td>\n",
       "      <td>NaN</td>\n",
       "      <td>Dollis Road</td>\n",
       "      <td>Barnet</td>\n",
       "      <td>Kerbside</td>\n",
       "      <td>No</td>\n",
       "      <td>51.60449</td>\n",
       "      <td>-0.20655</td>\n",
       "      <td>524299.92290</td>\n",
       "      <td>191038.62670</td>\n",
       "      <td>1.20000</td>\n",
       "      <td>3.10000</td>\n",
       "      <td>NaN</td>\n",
       "    </tr>\n",
       "    <tr>\n",
       "      <th>1</th>\n",
       "      <td>2245</td>\n",
       "      <td>03/05/2019 10:00</td>\n",
       "      <td>30/11/2020 23:59</td>\n",
       "      <td>NaN</td>\n",
       "      <td>Great Ormond St Hospital</td>\n",
       "      <td>Camden</td>\n",
       "      <td>Roadside</td>\n",
       "      <td>Yes</td>\n",
       "      <td>51.52188</td>\n",
       "      <td>-0.12043</td>\n",
       "      <td>530499.42610</td>\n",
       "      <td>182002.31810</td>\n",
       "      <td>2.50000</td>\n",
       "      <td>2.80000</td>\n",
       "      <td>Hospital</td>\n",
       "    </tr>\n",
       "    <tr>\n",
       "      <th>2</th>\n",
       "      <td>3245</td>\n",
       "      <td>04/10/2018 18:00</td>\n",
       "      <td>30/11/2020 23:59</td>\n",
       "      <td>NaN</td>\n",
       "      <td>Savernake Road</td>\n",
       "      <td>Camden</td>\n",
       "      <td>Urban Background</td>\n",
       "      <td>No</td>\n",
       "      <td>51.55548</td>\n",
       "      <td>-0.15234</td>\n",
       "      <td>528191.72400</td>\n",
       "      <td>185682.95870</td>\n",
       "      <td>5.00000</td>\n",
       "      <td>2.29700</td>\n",
       "      <td>School</td>\n",
       "    </tr>\n",
       "    <tr>\n",
       "      <th>3</th>\n",
       "      <td>4245</td>\n",
       "      <td>06/03/2019 14:35</td>\n",
       "      <td>30/11/2020 23:59</td>\n",
       "      <td>NaN</td>\n",
       "      <td>Wandsworth Road</td>\n",
       "      <td>Lambeth</td>\n",
       "      <td>Kerbside</td>\n",
       "      <td>No</td>\n",
       "      <td>51.47574</td>\n",
       "      <td>-0.13121</td>\n",
       "      <td>529881.97910</td>\n",
       "      <td>176852.26930</td>\n",
       "      <td>0.50000</td>\n",
       "      <td>3.12000</td>\n",
       "      <td>NaN</td>\n",
       "    </tr>\n",
       "    <tr>\n",
       "      <th>4</th>\n",
       "      <td>5245</td>\n",
       "      <td>06/03/2019 15:55</td>\n",
       "      <td>30/11/2020 23:59</td>\n",
       "      <td>NaN</td>\n",
       "      <td>Garrett Lane</td>\n",
       "      <td>Wandsworth</td>\n",
       "      <td>Kerbside</td>\n",
       "      <td>No</td>\n",
       "      <td>51.44040</td>\n",
       "      <td>-0.18677</td>\n",
       "      <td>526117.99440</td>\n",
       "      <td>172825.44590</td>\n",
       "      <td>1.00000</td>\n",
       "      <td>3.44500</td>\n",
       "      <td>Individual</td>\n",
       "    </tr>\n",
       "  </tbody>\n",
       "</table>\n",
       "</div>"
      ],
      "text/plain": [
       "   pod_id_location    start_date_UTC      end_date_UTC relocate_date_UTC  \\\n",
       "0             1245  15/02/2019 12:00  30/11/2020 23:59               NaN   \n",
       "1             2245  03/05/2019 10:00  30/11/2020 23:59               NaN   \n",
       "2             3245  04/10/2018 18:00  30/11/2020 23:59               NaN   \n",
       "3             4245  06/03/2019 14:35  30/11/2020 23:59               NaN   \n",
       "4             5245  06/03/2019 15:55  30/11/2020 23:59               NaN   \n",
       "\n",
       "              location_name     Borough              Type ULEZ  Latitude  \\\n",
       "0               Dollis Road      Barnet          Kerbside   No  51.60449   \n",
       "1  Great Ormond St Hospital      Camden          Roadside  Yes  51.52188   \n",
       "2            Savernake Road      Camden  Urban Background   No  51.55548   \n",
       "3           Wandsworth Road     Lambeth          Kerbside   No  51.47574   \n",
       "4              Garrett Lane  Wandsworth          Kerbside   No  51.44040   \n",
       "\n",
       "   Longitude      X_Coord      Y_Coord  Distance_from_Road  Height  \\\n",
       "0   -0.20655 524299.92290 191038.62670             1.20000 3.10000   \n",
       "1   -0.12043 530499.42610 182002.31810             2.50000 2.80000   \n",
       "2   -0.15234 528191.72400 185682.95870             5.00000 2.29700   \n",
       "3   -0.13121 529881.97910 176852.26930             0.50000 3.12000   \n",
       "4   -0.18677 526117.99440 172825.44590             1.00000 3.44500   \n",
       "\n",
       "     Site_Type  \n",
       "0          NaN  \n",
       "1    Hospital   \n",
       "2       School  \n",
       "3          NaN  \n",
       "4  Individual   "
      ]
     },
     "execution_count": 58,
     "metadata": {},
     "output_type": "execute_result"
    }
   ],
   "source": [
    "pm25_metadata.head()"
   ]
  },
  {
   "cell_type": "code",
   "execution_count": 59,
   "metadata": {
    "colab": {
     "base_uri": "https://localhost:8080/"
    },
    "id": "pASyWOk_7-Fn",
    "outputId": "6f14d684-6938-45e3-c47a-d0448f7db976"
   },
   "outputs": [
    {
     "data": {
      "text/plain": [
       "array(['Barnet', 'Camden', 'Lambeth', 'Wandsworth', 'Hounslow',\n",
       "       'Southwark', 'Westminster', 'Kensington & Chelsea',\n",
       "       'Tower Hamlets', 'Islington', 'Kingston', 'City of London',\n",
       "       'Waltham Forest', 'Haringey', 'Enfield', 'Greenwich', 'Redbridge',\n",
       "       'Hammersmith & Fulham', 'Newham', 'Hackney', 'Richmond', 'Ealing',\n",
       "       'Bexley', 'Lewisham', 'Sutton', 'Havering', 'Merton',\n",
       "       'Barking & Dagenham', 'Epping Cross'], dtype=object)"
      ]
     },
     "execution_count": 59,
     "metadata": {},
     "output_type": "execute_result"
    }
   ],
   "source": [
    "pm25_metadata['Borough'].unique()"
   ]
  },
  {
   "cell_type": "code",
   "execution_count": 60,
   "metadata": {
    "colab": {
     "base_uri": "https://localhost:8080/",
     "height": 206
    },
    "id": "_zV3UwA42BuB",
    "outputId": "d0f2ba5b-2001-4fe4-b2c1-3f655cc858e6",
    "pycharm": {
     "name": "#%%\n"
    }
   },
   "outputs": [
    {
     "data": {
      "text/html": [
       "<div>\n",
       "<style scoped>\n",
       "    .dataframe tbody tr th:only-of-type {\n",
       "        vertical-align: middle;\n",
       "    }\n",
       "\n",
       "    .dataframe tbody tr th {\n",
       "        vertical-align: top;\n",
       "    }\n",
       "\n",
       "    .dataframe thead th {\n",
       "        text-align: right;\n",
       "    }\n",
       "</style>\n",
       "<table border=\"1\" class=\"dataframe\">\n",
       "  <thead>\n",
       "    <tr style=\"text-align: right;\">\n",
       "      <th></th>\n",
       "      <th>date_UTC</th>\n",
       "      <th>pm2_5_ugm3</th>\n",
       "      <th>pod_id_location</th>\n",
       "      <th>pod_id</th>\n",
       "      <th>location_name</th>\n",
       "      <th>ratification_status</th>\n",
       "    </tr>\n",
       "  </thead>\n",
       "  <tbody>\n",
       "    <tr>\n",
       "      <th>0</th>\n",
       "      <td>2019-02-15 13:00:00</td>\n",
       "      <td>20.17000</td>\n",
       "      <td>1245</td>\n",
       "      <td>1245</td>\n",
       "      <td>Dollis Road</td>\n",
       "      <td>P</td>\n",
       "    </tr>\n",
       "    <tr>\n",
       "      <th>1</th>\n",
       "      <td>2019-02-15 14:00:00</td>\n",
       "      <td>18.47000</td>\n",
       "      <td>1245</td>\n",
       "      <td>1245</td>\n",
       "      <td>Dollis Road</td>\n",
       "      <td>P</td>\n",
       "    </tr>\n",
       "    <tr>\n",
       "      <th>2</th>\n",
       "      <td>2019-02-15 15:00:00</td>\n",
       "      <td>19.84000</td>\n",
       "      <td>1245</td>\n",
       "      <td>1245</td>\n",
       "      <td>Dollis Road</td>\n",
       "      <td>P</td>\n",
       "    </tr>\n",
       "    <tr>\n",
       "      <th>3</th>\n",
       "      <td>2019-02-15 16:00:00</td>\n",
       "      <td>36.68000</td>\n",
       "      <td>1245</td>\n",
       "      <td>1245</td>\n",
       "      <td>Dollis Road</td>\n",
       "      <td>P</td>\n",
       "    </tr>\n",
       "    <tr>\n",
       "      <th>4</th>\n",
       "      <td>2019-02-15 17:00:00</td>\n",
       "      <td>20.18000</td>\n",
       "      <td>1245</td>\n",
       "      <td>1245</td>\n",
       "      <td>Dollis Road</td>\n",
       "      <td>P</td>\n",
       "    </tr>\n",
       "  </tbody>\n",
       "</table>\n",
       "</div>"
      ],
      "text/plain": [
       "              date_UTC  pm2_5_ugm3  pod_id_location  pod_id location_name  \\\n",
       "0  2019-02-15 13:00:00    20.17000             1245    1245   Dollis Road   \n",
       "1  2019-02-15 14:00:00    18.47000             1245    1245   Dollis Road   \n",
       "2  2019-02-15 15:00:00    19.84000             1245    1245   Dollis Road   \n",
       "3  2019-02-15 16:00:00    36.68000             1245    1245   Dollis Road   \n",
       "4  2019-02-15 17:00:00    20.18000             1245    1245   Dollis Road   \n",
       "\n",
       "  ratification_status  \n",
       "0                   P  \n",
       "1                   P  \n",
       "2                   P  \n",
       "3                   P  \n",
       "4                   P  "
      ]
     },
     "execution_count": 60,
     "metadata": {},
     "output_type": "execute_result"
    }
   ],
   "source": [
    "# And displaying the data itself\n",
    "pm25_full_network.head()"
   ]
  },
  {
   "cell_type": "code",
   "execution_count": 61,
   "metadata": {
    "colab": {
     "base_uri": "https://localhost:8080/"
    },
    "id": "79aLKjTY0dNC",
    "outputId": "0d4dbdb4-c7a0-4b54-9fe7-ed55f6e9c279"
   },
   "outputs": [
    {
     "data": {
      "text/plain": [
       "1399810"
      ]
     },
     "execution_count": 61,
     "metadata": {},
     "output_type": "execute_result"
    }
   ],
   "source": [
    "len(pm25_full_network)"
   ]
  },
  {
   "cell_type": "markdown",
   "metadata": {
    "id": "GCqg5zyX2BuB",
    "pycharm": {
     "name": "#%% md\n"
    }
   },
   "source": [
    "We can see that there is a csv recording the timeseries value of the PM2.5 reading (hourly) and a csv containing information\n",
    "about the location of the sensor. They both share a commin id in the column `pod_id_location`. Lets join the PM2.5 data and\n",
    "the NO2 data to one dataframe containing the timeseries values and location information"
   ]
  },
  {
   "cell_type": "code",
   "execution_count": 62,
   "metadata": {
    "colab": {
     "base_uri": "https://localhost:8080/",
     "height": 313
    },
    "id": "MBol3OQx2BuC",
    "outputId": "ae99d5ef-ca18-4f50-ad40-c1c0e17e488a",
    "pycharm": {
     "name": "#%%\n"
    }
   },
   "outputs": [
    {
     "data": {
      "text/html": [
       "<div>\n",
       "<style scoped>\n",
       "    .dataframe tbody tr th:only-of-type {\n",
       "        vertical-align: middle;\n",
       "    }\n",
       "\n",
       "    .dataframe tbody tr th {\n",
       "        vertical-align: top;\n",
       "    }\n",
       "\n",
       "    .dataframe thead th {\n",
       "        text-align: right;\n",
       "    }\n",
       "</style>\n",
       "<table border=\"1\" class=\"dataframe\">\n",
       "  <thead>\n",
       "    <tr style=\"text-align: right;\">\n",
       "      <th></th>\n",
       "      <th>date_UTC</th>\n",
       "      <th>no2_ugm3</th>\n",
       "      <th>pod_id_location</th>\n",
       "      <th>pod_id</th>\n",
       "      <th>location_name</th>\n",
       "      <th>ratification_status</th>\n",
       "      <th>start_date_UTC</th>\n",
       "      <th>end_date_UTC</th>\n",
       "      <th>relocate_date_UTC</th>\n",
       "      <th>Borough</th>\n",
       "      <th>Type</th>\n",
       "      <th>ULEZ</th>\n",
       "      <th>Latitude</th>\n",
       "      <th>Longitude</th>\n",
       "      <th>X_Coord</th>\n",
       "      <th>Y_Coord</th>\n",
       "      <th>Distance_from_Road</th>\n",
       "      <th>Height</th>\n",
       "      <th>Site_Type</th>\n",
       "    </tr>\n",
       "  </thead>\n",
       "  <tbody>\n",
       "    <tr>\n",
       "      <th>0</th>\n",
       "      <td>2019-02-15 17:00:00</td>\n",
       "      <td>61.99000</td>\n",
       "      <td>1245</td>\n",
       "      <td>1245</td>\n",
       "      <td>Dollis Road</td>\n",
       "      <td>P</td>\n",
       "      <td>15/02/2019 16:45</td>\n",
       "      <td>30/11/2020 23:59</td>\n",
       "      <td>NaN</td>\n",
       "      <td>Barnet</td>\n",
       "      <td>Kerbside</td>\n",
       "      <td>No</td>\n",
       "      <td>51.60449</td>\n",
       "      <td>-0.20655</td>\n",
       "      <td>524299.92290</td>\n",
       "      <td>191038.62670</td>\n",
       "      <td>1.20000</td>\n",
       "      <td>3.10000</td>\n",
       "      <td>NaN</td>\n",
       "    </tr>\n",
       "    <tr>\n",
       "      <th>1</th>\n",
       "      <td>2019-02-15 18:00:00</td>\n",
       "      <td>67.33000</td>\n",
       "      <td>1245</td>\n",
       "      <td>1245</td>\n",
       "      <td>Dollis Road</td>\n",
       "      <td>P</td>\n",
       "      <td>15/02/2019 16:45</td>\n",
       "      <td>30/11/2020 23:59</td>\n",
       "      <td>NaN</td>\n",
       "      <td>Barnet</td>\n",
       "      <td>Kerbside</td>\n",
       "      <td>No</td>\n",
       "      <td>51.60449</td>\n",
       "      <td>-0.20655</td>\n",
       "      <td>524299.92290</td>\n",
       "      <td>191038.62670</td>\n",
       "      <td>1.20000</td>\n",
       "      <td>3.10000</td>\n",
       "      <td>NaN</td>\n",
       "    </tr>\n",
       "    <tr>\n",
       "      <th>2</th>\n",
       "      <td>2019-02-15 19:00:00</td>\n",
       "      <td>72.61000</td>\n",
       "      <td>1245</td>\n",
       "      <td>1245</td>\n",
       "      <td>Dollis Road</td>\n",
       "      <td>P</td>\n",
       "      <td>15/02/2019 16:45</td>\n",
       "      <td>30/11/2020 23:59</td>\n",
       "      <td>NaN</td>\n",
       "      <td>Barnet</td>\n",
       "      <td>Kerbside</td>\n",
       "      <td>No</td>\n",
       "      <td>51.60449</td>\n",
       "      <td>-0.20655</td>\n",
       "      <td>524299.92290</td>\n",
       "      <td>191038.62670</td>\n",
       "      <td>1.20000</td>\n",
       "      <td>3.10000</td>\n",
       "      <td>NaN</td>\n",
       "    </tr>\n",
       "    <tr>\n",
       "      <th>3</th>\n",
       "      <td>2019-02-15 20:00:00</td>\n",
       "      <td>67.24000</td>\n",
       "      <td>1245</td>\n",
       "      <td>1245</td>\n",
       "      <td>Dollis Road</td>\n",
       "      <td>P</td>\n",
       "      <td>15/02/2019 16:45</td>\n",
       "      <td>30/11/2020 23:59</td>\n",
       "      <td>NaN</td>\n",
       "      <td>Barnet</td>\n",
       "      <td>Kerbside</td>\n",
       "      <td>No</td>\n",
       "      <td>51.60449</td>\n",
       "      <td>-0.20655</td>\n",
       "      <td>524299.92290</td>\n",
       "      <td>191038.62670</td>\n",
       "      <td>1.20000</td>\n",
       "      <td>3.10000</td>\n",
       "      <td>NaN</td>\n",
       "    </tr>\n",
       "    <tr>\n",
       "      <th>4</th>\n",
       "      <td>2019-02-15 21:00:00</td>\n",
       "      <td>59.78000</td>\n",
       "      <td>1245</td>\n",
       "      <td>1245</td>\n",
       "      <td>Dollis Road</td>\n",
       "      <td>P</td>\n",
       "      <td>15/02/2019 16:45</td>\n",
       "      <td>30/11/2020 23:59</td>\n",
       "      <td>NaN</td>\n",
       "      <td>Barnet</td>\n",
       "      <td>Kerbside</td>\n",
       "      <td>No</td>\n",
       "      <td>51.60449</td>\n",
       "      <td>-0.20655</td>\n",
       "      <td>524299.92290</td>\n",
       "      <td>191038.62670</td>\n",
       "      <td>1.20000</td>\n",
       "      <td>3.10000</td>\n",
       "      <td>NaN</td>\n",
       "    </tr>\n",
       "  </tbody>\n",
       "</table>\n",
       "</div>"
      ],
      "text/plain": [
       "              date_UTC  no2_ugm3  pod_id_location  pod_id location_name  \\\n",
       "0  2019-02-15 17:00:00  61.99000             1245    1245   Dollis Road   \n",
       "1  2019-02-15 18:00:00  67.33000             1245    1245   Dollis Road   \n",
       "2  2019-02-15 19:00:00  72.61000             1245    1245   Dollis Road   \n",
       "3  2019-02-15 20:00:00  67.24000             1245    1245   Dollis Road   \n",
       "4  2019-02-15 21:00:00  59.78000             1245    1245   Dollis Road   \n",
       "\n",
       "  ratification_status    start_date_UTC      end_date_UTC relocate_date_UTC  \\\n",
       "0                   P  15/02/2019 16:45  30/11/2020 23:59               NaN   \n",
       "1                   P  15/02/2019 16:45  30/11/2020 23:59               NaN   \n",
       "2                   P  15/02/2019 16:45  30/11/2020 23:59               NaN   \n",
       "3                   P  15/02/2019 16:45  30/11/2020 23:59               NaN   \n",
       "4                   P  15/02/2019 16:45  30/11/2020 23:59               NaN   \n",
       "\n",
       "  Borough      Type ULEZ  Latitude  Longitude      X_Coord      Y_Coord  \\\n",
       "0  Barnet  Kerbside   No  51.60449   -0.20655 524299.92290 191038.62670   \n",
       "1  Barnet  Kerbside   No  51.60449   -0.20655 524299.92290 191038.62670   \n",
       "2  Barnet  Kerbside   No  51.60449   -0.20655 524299.92290 191038.62670   \n",
       "3  Barnet  Kerbside   No  51.60449   -0.20655 524299.92290 191038.62670   \n",
       "4  Barnet  Kerbside   No  51.60449   -0.20655 524299.92290 191038.62670   \n",
       "\n",
       "   Distance_from_Road  Height Site_Type  \n",
       "0             1.20000 3.10000       NaN  \n",
       "1             1.20000 3.10000       NaN  \n",
       "2             1.20000 3.10000       NaN  \n",
       "3             1.20000 3.10000       NaN  \n",
       "4             1.20000 3.10000       NaN  "
      ]
     },
     "execution_count": 62,
     "metadata": {},
     "output_type": "execute_result"
    }
   ],
   "source": [
    "def join_network_metadata(network_df, metadata_df, col_to_join):\n",
    "    return network_df.merge(metadata_df, on=col_to_join, how='outer', suffixes=('', '_DROP')).filter(regex='^(?!.*_DROP)')\n",
    "\n",
    "\n",
    "pm25_network_metadata = join_network_metadata(pm25_full_network, pm25_metadata,  \"pod_id_location\")\n",
    "no2_network_metadata = join_network_metadata(no2_full_network, no2_metadata,  \"pod_id_location\")\n",
    "no2_network_metadata.head()"
   ]
  },
  {
   "cell_type": "code",
   "execution_count": 63,
   "metadata": {
    "colab": {
     "base_uri": "https://localhost:8080/"
    },
    "id": "lIVQjx_m5ByH",
    "outputId": "70a643dd-650e-4d86-88ba-216ff46c2ede"
   },
   "outputs": [
    {
     "data": {
      "text/plain": [
       "array(['Kerbside', 'Roadside', 'Urban Background', 'Urban Background '],\n",
       "      dtype=object)"
      ]
     },
     "execution_count": 63,
     "metadata": {},
     "output_type": "execute_result"
    }
   ],
   "source": [
    "pm25_network_metadata[\"Type\"].unique()"
   ]
  },
  {
   "cell_type": "markdown",
   "metadata": {
    "id": "MHc-bH4N2BuC",
    "pycharm": {
     "name": "#%% md\n"
    }
   },
   "source": [
    "Here we can see the NO2 data has successfully been joined with the metadata available for the sensor location. We drop repeated columns\n",
    "using a regex filter on our suffix `_DROP` added to duplicated columns within the merge.\n",
    "\n",
    "### 🔭 Preliminary Data Exploration"
   ]
  },
  {
   "cell_type": "code",
   "execution_count": 64,
   "metadata": {
    "id": "vMDKRTjD2BuD",
    "pycharm": {
     "name": "#%%\n"
    }
   },
   "outputs": [],
   "source": [
    "no2_numeric_cols = [\"no2_ugm3\", \"Distance_from_Road\",\"Height\"]\n",
    "pm25_numeric_cols = [\"pm2_5_ugm3\", \"Distance_from_Road\",\"Height\"]"
   ]
  },
  {
   "cell_type": "code",
   "execution_count": 65,
   "metadata": {
    "colab": {
     "base_uri": "https://localhost:8080/",
     "height": 300
    },
    "id": "m6QbWeYV2BuE",
    "outputId": "5e7ffa47-c7c4-42cf-e08b-404ffbd98ba3",
    "pycharm": {
     "name": "#%%\n"
    }
   },
   "outputs": [
    {
     "data": {
      "text/html": [
       "<div>\n",
       "<style scoped>\n",
       "    .dataframe tbody tr th:only-of-type {\n",
       "        vertical-align: middle;\n",
       "    }\n",
       "\n",
       "    .dataframe tbody tr th {\n",
       "        vertical-align: top;\n",
       "    }\n",
       "\n",
       "    .dataframe thead th {\n",
       "        text-align: right;\n",
       "    }\n",
       "</style>\n",
       "<table border=\"1\" class=\"dataframe\">\n",
       "  <thead>\n",
       "    <tr style=\"text-align: right;\">\n",
       "      <th></th>\n",
       "      <th>pm2_5_ugm3</th>\n",
       "      <th>Distance_from_Road</th>\n",
       "      <th>Height</th>\n",
       "    </tr>\n",
       "  </thead>\n",
       "  <tbody>\n",
       "    <tr>\n",
       "      <th>count</th>\n",
       "      <td>1399810.00000</td>\n",
       "      <td>1305125.00000</td>\n",
       "      <td>1399810.00000</td>\n",
       "    </tr>\n",
       "    <tr>\n",
       "      <th>mean</th>\n",
       "      <td>-104.43024</td>\n",
       "      <td>4.61179</td>\n",
       "      <td>3.27866</td>\n",
       "    </tr>\n",
       "    <tr>\n",
       "      <th>std</th>\n",
       "      <td>321.54480</td>\n",
       "      <td>6.96932</td>\n",
       "      <td>1.95759</td>\n",
       "    </tr>\n",
       "    <tr>\n",
       "      <th>min</th>\n",
       "      <td>-999.00000</td>\n",
       "      <td>0.00000</td>\n",
       "      <td>1.50000</td>\n",
       "    </tr>\n",
       "    <tr>\n",
       "      <th>25%</th>\n",
       "      <td>4.28000</td>\n",
       "      <td>1.00000</td>\n",
       "      <td>2.90000</td>\n",
       "    </tr>\n",
       "    <tr>\n",
       "      <th>50%</th>\n",
       "      <td>6.40000</td>\n",
       "      <td>2.00000</td>\n",
       "      <td>3.00000</td>\n",
       "    </tr>\n",
       "    <tr>\n",
       "      <th>75%</th>\n",
       "      <td>11.20000</td>\n",
       "      <td>5.70000</td>\n",
       "      <td>3.12600</td>\n",
       "    </tr>\n",
       "    <tr>\n",
       "      <th>max</th>\n",
       "      <td>469.59000</td>\n",
       "      <td>50.00000</td>\n",
       "      <td>19.50000</td>\n",
       "    </tr>\n",
       "  </tbody>\n",
       "</table>\n",
       "</div>"
      ],
      "text/plain": [
       "         pm2_5_ugm3  Distance_from_Road        Height\n",
       "count 1399810.00000       1305125.00000 1399810.00000\n",
       "mean     -104.43024             4.61179       3.27866\n",
       "std       321.54480             6.96932       1.95759\n",
       "min      -999.00000             0.00000       1.50000\n",
       "25%         4.28000             1.00000       2.90000\n",
       "50%         6.40000             2.00000       3.00000\n",
       "75%        11.20000             5.70000       3.12600\n",
       "max       469.59000            50.00000      19.50000"
      ]
     },
     "execution_count": 65,
     "metadata": {},
     "output_type": "execute_result"
    }
   ],
   "source": [
    "# Data distribution\n",
    "pd.set_option('display.float_format', lambda x: '%.5f' % x)\n",
    "pm25_network_metadata[pm25_numeric_cols].describe()"
   ]
  },
  {
   "cell_type": "code",
   "execution_count": 66,
   "metadata": {
    "colab": {
     "base_uri": "https://localhost:8080/",
     "height": 300
    },
    "id": "mu7NPTHJ2BuF",
    "outputId": "b9839759-f9b2-45e8-927a-56e8d48b16ca",
    "pycharm": {
     "name": "#%%\n"
    }
   },
   "outputs": [
    {
     "data": {
      "text/html": [
       "<div>\n",
       "<style scoped>\n",
       "    .dataframe tbody tr th:only-of-type {\n",
       "        vertical-align: middle;\n",
       "    }\n",
       "\n",
       "    .dataframe tbody tr th {\n",
       "        vertical-align: top;\n",
       "    }\n",
       "\n",
       "    .dataframe thead th {\n",
       "        text-align: right;\n",
       "    }\n",
       "</style>\n",
       "<table border=\"1\" class=\"dataframe\">\n",
       "  <thead>\n",
       "    <tr style=\"text-align: right;\">\n",
       "      <th></th>\n",
       "      <th>no2_ugm3</th>\n",
       "      <th>Distance_from_Road</th>\n",
       "      <th>Height</th>\n",
       "    </tr>\n",
       "  </thead>\n",
       "  <tbody>\n",
       "    <tr>\n",
       "      <th>count</th>\n",
       "      <td>1555296.00000</td>\n",
       "      <td>1448871.00000</td>\n",
       "      <td>1555296.00000</td>\n",
       "    </tr>\n",
       "    <tr>\n",
       "      <th>mean</th>\n",
       "      <td>-15.62420</td>\n",
       "      <td>4.18273</td>\n",
       "      <td>3.29576</td>\n",
       "    </tr>\n",
       "    <tr>\n",
       "      <th>std</th>\n",
       "      <td>223.95386</td>\n",
       "      <td>6.57160</td>\n",
       "      <td>1.80931</td>\n",
       "    </tr>\n",
       "    <tr>\n",
       "      <th>min</th>\n",
       "      <td>-999.00000</td>\n",
       "      <td>0.00000</td>\n",
       "      <td>1.50000</td>\n",
       "    </tr>\n",
       "    <tr>\n",
       "      <th>25%</th>\n",
       "      <td>22.28000</td>\n",
       "      <td>1.00000</td>\n",
       "      <td>2.93000</td>\n",
       "    </tr>\n",
       "    <tr>\n",
       "      <th>50%</th>\n",
       "      <td>30.02000</td>\n",
       "      <td>1.67000</td>\n",
       "      <td>3.00000</td>\n",
       "    </tr>\n",
       "    <tr>\n",
       "      <th>75%</th>\n",
       "      <td>40.85000</td>\n",
       "      <td>5.00000</td>\n",
       "      <td>3.12000</td>\n",
       "    </tr>\n",
       "    <tr>\n",
       "      <th>max</th>\n",
       "      <td>628.12000</td>\n",
       "      <td>50.00000</td>\n",
       "      <td>20.00000</td>\n",
       "    </tr>\n",
       "  </tbody>\n",
       "</table>\n",
       "</div>"
      ],
      "text/plain": [
       "           no2_ugm3  Distance_from_Road        Height\n",
       "count 1555296.00000       1448871.00000 1555296.00000\n",
       "mean      -15.62420             4.18273       3.29576\n",
       "std       223.95386             6.57160       1.80931\n",
       "min      -999.00000             0.00000       1.50000\n",
       "25%        22.28000             1.00000       2.93000\n",
       "50%        30.02000             1.67000       3.00000\n",
       "75%        40.85000             5.00000       3.12000\n",
       "max       628.12000            50.00000      20.00000"
      ]
     },
     "execution_count": 66,
     "metadata": {},
     "output_type": "execute_result"
    }
   ],
   "source": [
    "no2_network_metadata[no2_numeric_cols].describe()"
   ]
  },
  {
   "cell_type": "markdown",
   "metadata": {
    "id": "lypGuTic2BuG",
    "pycharm": {
     "name": "#%% md\n"
    }
   },
   "source": [
    "The distribution of the numeric variables looks positively skewed and these variables may need to be transformed for modelling.\n",
    "It looks like `NA` values are coded differently depending on the variable. For example, the value `-999.00000` seems to indicate\n",
    "null values in bopth PM2.5 and NO2 readings.\n",
    "Lets take a further look at the number of `NA` values in the data and where they exist."
   ]
  },
  {
   "cell_type": "code",
   "execution_count": 67,
   "metadata": {
    "colab": {
     "base_uri": "https://localhost:8080/"
    },
    "id": "Rni3frPg2BuH",
    "outputId": "19041bc4-a362-4973-dfe1-7d2a722b9927",
    "pycharm": {
     "name": "#%%\n"
    }
   },
   "outputs": [
    {
     "data": {
      "text/plain": [
       "date_UTC                     0\n",
       "pm2_5_ugm3                   0\n",
       "pod_id_location              0\n",
       "pod_id                       0\n",
       "location_name                0\n",
       "ratification_status          0\n",
       "start_date_UTC               0\n",
       "end_date_UTC                 0\n",
       "relocate_date_UTC      1344809\n",
       "Borough                      0\n",
       "Type                         0\n",
       "ULEZ                         0\n",
       "Latitude                     0\n",
       "Longitude                    0\n",
       "X_Coord                      0\n",
       "Y_Coord                      0\n",
       "Distance_from_Road       94685\n",
       "Height                       0\n",
       "Site_Type               684790\n",
       "dtype: int64"
      ]
     },
     "execution_count": 67,
     "metadata": {},
     "output_type": "execute_result"
    }
   ],
   "source": [
    "#nan values\n",
    "pm25_network_metadata.isnull().sum()"
   ]
  },
  {
   "cell_type": "code",
   "execution_count": 68,
   "metadata": {
    "colab": {
     "base_uri": "https://localhost:8080/"
    },
    "id": "qk-wXRjX2BuH",
    "outputId": "32216199-c774-4c4a-c32e-11e0c935aa2c",
    "pycharm": {
     "name": "#%%\n"
    }
   },
   "outputs": [
    {
     "data": {
      "text/plain": [
       "date_UTC                     0\n",
       "no2_ugm3                     0\n",
       "pod_id_location              0\n",
       "pod_id                       0\n",
       "location_name                0\n",
       "ratification_status          0\n",
       "start_date_UTC               0\n",
       "end_date_UTC                 0\n",
       "relocate_date_UTC      1438569\n",
       "Borough                      0\n",
       "Type                         0\n",
       "ULEZ                         0\n",
       "Latitude                     0\n",
       "Longitude                    0\n",
       "X_Coord                      0\n",
       "Y_Coord                      0\n",
       "Distance_from_Road      106425\n",
       "Height                       0\n",
       "Site_Type               848060\n",
       "dtype: int64"
      ]
     },
     "execution_count": 68,
     "metadata": {},
     "output_type": "execute_result"
    }
   ],
   "source": [
    "#nan values\n",
    "no2_network_metadata.isnull().sum()"
   ]
  },
  {
   "cell_type": "markdown",
   "metadata": {
    "id": "yCij88bD2BuI",
    "pycharm": {
     "name": "#%% md\n"
    }
   },
   "source": [
    "Here we can see that most of the `NA` values exist in the variables `relocate_date_UTC`, `Distance_from_Road` and `Site_Type`.\n",
    "We can deal with these missing data through recoding and omitting the values themselves, or imputing them."
   ]
  },
  {
   "cell_type": "code",
   "execution_count": 69,
   "metadata": {
    "id": "6iZpyEaX2BuI",
    "pycharm": {
     "name": "#%%\n"
    }
   },
   "outputs": [],
   "source": [
    "from numpy import nan\n",
    "# replace '-999.00000' values with 'nan'\n",
    "def recode_missing_values(data, col_to_recode, value_to_recode):\n",
    "    return data[col_to_recode].replace(value_to_recode, nan)\n",
    "\n",
    "pm25_network_metadata['pm2_5_ugm3'] = recode_missing_values(pm25_network_metadata, \"pm2_5_ugm3\", -999.00000)\n",
    "no2_network_metadata['no2_ugm3'] = recode_missing_values(no2_network_metadata, \"no2_ugm3\", -999.00000)"
   ]
  },
  {
   "cell_type": "code",
   "execution_count": 70,
   "metadata": {
    "colab": {
     "base_uri": "https://localhost:8080/"
    },
    "id": "UDKbpPuV2BuJ",
    "outputId": "37ad66b2-41a6-4059-9366-1893453c9df6",
    "pycharm": {
     "name": "#%%\n"
    }
   },
   "outputs": [
    {
     "data": {
      "text/plain": [
       "ratification_status      1\n",
       "ULEZ                     2\n",
       "Type                     4\n",
       "Site_Type                5\n",
       "relocate_date_UTC       21\n",
       "end_date_UTC            30\n",
       "Borough                 34\n",
       "Height                  55\n",
       "Distance_from_Road      59\n",
       "pod_id                 107\n",
       "dtype: int64"
      ]
     },
     "execution_count": 70,
     "metadata": {},
     "output_type": "execute_result"
    }
   ],
   "source": [
    "#no. of unique values\n",
    "no2_network_metadata_unique = no2_network_metadata.nunique(dropna = False)\n",
    "no2_network_metadata_unique.sort_values()[:10]"
   ]
  },
  {
   "cell_type": "code",
   "execution_count": 71,
   "metadata": {
    "colab": {
     "base_uri": "https://localhost:8080/"
    },
    "id": "ugNaTOb92BuJ",
    "outputId": "2b855b6e-7203-4f6d-af39-e23cb853889d",
    "pycharm": {
     "name": "#%%\n"
    }
   },
   "outputs": [
    {
     "data": {
      "text/plain": [
       "ratification_status     1\n",
       "ULEZ                    2\n",
       "Type                    4\n",
       "Site_Type               5\n",
       "relocate_date_UTC       6\n",
       "end_date_UTC            6\n",
       "Borough                29\n",
       "Height                 49\n",
       "Distance_from_Road     52\n",
       "pod_id                 95\n",
       "dtype: int64"
      ]
     },
     "execution_count": 71,
     "metadata": {},
     "output_type": "execute_result"
    }
   ],
   "source": [
    "#no. of unique values\n",
    "pm25_network_metadata_unique = pm25_network_metadata.nunique(dropna = False)\n",
    "pm25_network_metadata_unique.sort_values()[:10]"
   ]
  },
  {
   "cell_type": "markdown",
   "metadata": {
    "id": "RRjw8e6l2BuK",
    "pycharm": {
     "name": "#%% md\n"
    }
   },
   "source": [
    "Here we can see the number of unique values for each of our datasets. We can see there are `107` `NO2` unique stations\n",
    "in across 34 boroughs in London, and `95` stations capturing PM2.5 values across 29 boroughs in London.\n",
    "\n",
    "### 🗺 Plotting Geospatial distribution"
   ]
  },
  {
   "cell_type": "code",
   "execution_count": 72,
   "metadata": {
    "id": "v_rtdjcX2BuK",
    "pycharm": {
     "name": "#%%\n"
    }
   },
   "outputs": [],
   "source": [
    "import geopandas as gpd\n",
    "import matplotlib.pyplot as plt\n",
    "# import contextily as cx\n",
    "%matplotlib inline\n",
    "\n",
    "pm25_network_metadata_gdf = gpd.GeoDataFrame(pm25_metadata, geometry=gpd.points_from_xy(pm25_metadata.Longitude, pm25_metadata.Latitude), crs='EPSG:4326')\n",
    "no2_network_metadata_gdf = gpd.GeoDataFrame(no2_metadata, geometry=gpd.points_from_xy(no2_metadata.Longitude, no2_metadata.Latitude), crs='EPSG:4326')"
   ]
  },
  {
   "cell_type": "markdown",
   "metadata": {
    "id": "3MmPWndd2BuK",
    "pycharm": {
     "name": "#%% md\n"
    }
   },
   "source": [
    "In order to display the map of the station locations accurately, we need to set the Coordinate reference system of the georeferences information in our\n",
    "`GeoDataFrame`. This requires knowing some information on [projection systems](https://geopandas.org/docs/user_guide/projections.html), but for now\n",
    "we know that any geospatial information given in `Latitude` and `Longitude` is well-projected using the `EPSG:4326` coordinate reference system.\n"
   ]
  },
  {
   "cell_type": "code",
   "execution_count": 99,
   "metadata": {
    "colab": {
     "base_uri": "https://localhost:8080/",
     "height": 214
    },
    "id": "tzLQVl7w2BuL",
    "outputId": "f9259622-4675-4fc4-957e-db4ecdd29393",
    "pycharm": {
     "name": "#%%\n"
    }
   },
   "outputs": [
    {
     "data": {
      "image/png": "[encoded data removed]",
      "text/plain": [
       "<Figure size 432x288 with 1 Axes>"
      ]
     },
     "metadata": {
      "needs_background": "light"
     },
     "output_type": "display_data"
    }
   ],
   "source": [
    "def set_crs(gdf, espg, **kwargs: Any):\n",
    "    return gdf.set_crs(epsg=espg, inplace=True, **kwargs)\n",
    "\n",
    "pm25_network_metadata_gdf = set_crs(pm25_network_metadata_gdf, 4326)\n",
    "no2_network_metadata_gdf = set_crs(no2_network_metadata_gdf, 4326)\n",
    "\n",
    "f, ax = plt.subplots(1)\n",
    "no2_network_metadata_gdf.plot(ax=ax, color=\"blue\", figsize=(20, 20), label=\"NO2 stations\")\n",
    "\n",
    "pm25_network_metadata_gdf.plot(ax=ax, color=\"red\", figsize=(20, 20), alpha=0.5, label=\"PM2.5 stations\")\n",
    "# cx.add_basemap(ax, crs=no2_network_metadata_gdf.crs.to_string())\n",
    "leg = ax.legend()\n",
    "plt.show()"
   ]
  },
  {
   "cell_type": "markdown",
   "metadata": {
    "id": "ah3sIb4q2BuM",
    "pycharm": {
     "name": "#%% md\n"
    }
   },
   "source": [
    "In the above map (using the metadata of the individual stations) we can see that there are more N02 stations than PM2.5 (also indicated by the no. of unique stations from each\n",
    "`dataframe`, and that these stations are located slightly further out. The stations in purple indicate an overlapping of a PM2.5 and NO2\n",
    "sensor in the same location.\n",
    "### ♻️ Converting data\n",
    "Lets create some additional columns to summarise the data with, and lets merge both dataframes on the newly created `date` column."
   ]
  },
  {
   "cell_type": "code",
   "execution_count": 74,
   "metadata": {
    "colab": {
     "base_uri": "https://localhost:8080/",
     "height": 424
    },
    "id": "SZleGU_02BuM",
    "outputId": "19731fd1-367d-494f-990d-e351a1bf0240",
    "pycharm": {
     "name": "#%%\n"
    }
   },
   "outputs": [
    {
     "data": {
      "text/html": [
       "<div>\n",
       "<style scoped>\n",
       "    .dataframe tbody tr th:only-of-type {\n",
       "        vertical-align: middle;\n",
       "    }\n",
       "\n",
       "    .dataframe tbody tr th {\n",
       "        vertical-align: top;\n",
       "    }\n",
       "\n",
       "    .dataframe thead th {\n",
       "        text-align: right;\n",
       "    }\n",
       "</style>\n",
       "<table border=\"1\" class=\"dataframe\">\n",
       "  <thead>\n",
       "    <tr style=\"text-align: right;\">\n",
       "      <th></th>\n",
       "      <th>date</th>\n",
       "      <th>pm2_5_ugm3</th>\n",
       "      <th>no2_ugm3</th>\n",
       "    </tr>\n",
       "  </thead>\n",
       "  <tbody>\n",
       "    <tr>\n",
       "      <th>0</th>\n",
       "      <td>2018-09-26</td>\n",
       "      <td>8.46286</td>\n",
       "      <td>83.84458</td>\n",
       "    </tr>\n",
       "    <tr>\n",
       "      <th>1</th>\n",
       "      <td>2018-09-27</td>\n",
       "      <td>8.29125</td>\n",
       "      <td>97.22446</td>\n",
       "    </tr>\n",
       "    <tr>\n",
       "      <th>2</th>\n",
       "      <td>2018-09-28</td>\n",
       "      <td>5.73375</td>\n",
       "      <td>34.15138</td>\n",
       "    </tr>\n",
       "    <tr>\n",
       "      <th>3</th>\n",
       "      <td>2018-09-29</td>\n",
       "      <td>8.23389</td>\n",
       "      <td>53.33000</td>\n",
       "    </tr>\n",
       "    <tr>\n",
       "      <th>4</th>\n",
       "      <td>2018-09-30</td>\n",
       "      <td>8.27319</td>\n",
       "      <td>37.17500</td>\n",
       "    </tr>\n",
       "    <tr>\n",
       "      <th>...</th>\n",
       "      <td>...</td>\n",
       "      <td>...</td>\n",
       "      <td>...</td>\n",
       "    </tr>\n",
       "    <tr>\n",
       "      <th>793</th>\n",
       "      <td>2020-11-27</td>\n",
       "      <td>23.37291</td>\n",
       "      <td>45.25448</td>\n",
       "    </tr>\n",
       "    <tr>\n",
       "      <th>794</th>\n",
       "      <td>2020-11-28</td>\n",
       "      <td>38.93289</td>\n",
       "      <td>41.93009</td>\n",
       "    </tr>\n",
       "    <tr>\n",
       "      <th>795</th>\n",
       "      <td>2020-11-29</td>\n",
       "      <td>31.05356</td>\n",
       "      <td>36.53198</td>\n",
       "    </tr>\n",
       "    <tr>\n",
       "      <th>796</th>\n",
       "      <td>2020-11-30</td>\n",
       "      <td>17.71516</td>\n",
       "      <td>30.04076</td>\n",
       "    </tr>\n",
       "    <tr>\n",
       "      <th>797</th>\n",
       "      <td>2020-12-01</td>\n",
       "      <td>4.68943</td>\n",
       "      <td>20.09537</td>\n",
       "    </tr>\n",
       "  </tbody>\n",
       "</table>\n",
       "<p>798 rows × 3 columns</p>\n",
       "</div>"
      ],
      "text/plain": [
       "           date  pm2_5_ugm3  no2_ugm3\n",
       "0    2018-09-26     8.46286  83.84458\n",
       "1    2018-09-27     8.29125  97.22446\n",
       "2    2018-09-28     5.73375  34.15138\n",
       "3    2018-09-29     8.23389  53.33000\n",
       "4    2018-09-30     8.27319  37.17500\n",
       "..          ...         ...       ...\n",
       "793  2020-11-27    23.37291  45.25448\n",
       "794  2020-11-28    38.93289  41.93009\n",
       "795  2020-11-29    31.05356  36.53198\n",
       "796  2020-11-30    17.71516  30.04076\n",
       "797  2020-12-01     4.68943  20.09537\n",
       "\n",
       "[798 rows x 3 columns]"
      ]
     },
     "execution_count": 74,
     "metadata": {},
     "output_type": "execute_result"
    }
   ],
   "source": [
    "#conversion\n",
    "def create_datetime_columns(data, date_column):\n",
    "    data[\"timestamp\"] = data[date_column].astype(\"datetime64\")\n",
    "    data[\"date\"] = data[\"timestamp\"].dt.to_period(\"d\")\n",
    "    data[\"month\"] = data[\"timestamp\"].dt.to_period(\"M\")\n",
    "    return data\n",
    "\n",
    "no2_network_metadata = create_datetime_columns(no2_network_metadata, \"date_UTC\")\n",
    "pm25_network_metadata = create_datetime_columns(pm25_network_metadata, \"date_UTC\")\n",
    "\n",
    "def groupby_date_column(data, cols_to_group, grouping_col):\n",
    "    return data[cols_to_group].groupby(grouping_col).mean().reset_index()\n",
    "\n",
    "pm25_grouped = groupby_date_column(pm25_network_metadata, [\"date\", \"pm2_5_ugm3\"], \"date\")\n",
    "no2_grouped = groupby_date_column(no2_network_metadata, [\"date\", \"no2_ugm3\"], \"date\")\n",
    "\n",
    "#merging dataframes together for comparison plots.\n",
    "pm25_no2_grouped = pm25_grouped[[\"date\", \"pm2_5_ugm3\"]].merge(no2_grouped[[\"date\", \"no2_ugm3\"]], on=\"date\")\n",
    "\n",
    "pm25_no2_grouped"
   ]
  },
  {
   "cell_type": "code",
   "execution_count": 75,
   "metadata": {
    "colab": {
     "base_uri": "https://localhost:8080/",
     "height": 559
    },
    "id": "1NPCrSUL2BuM",
    "outputId": "286083f1-2b03-46bb-e248-29053d2e4e48",
    "pycharm": {
     "name": "#%%\n"
    }
   },
   "outputs": [
    {
     "data": {
      "text/plain": [
       "array([<AxesSubplot:>, <AxesSubplot:>], dtype=object)"
      ]
     },
     "execution_count": 75,
     "metadata": {},
     "output_type": "execute_result"
    },
    {
     "data": {
      "image/png": "[encoded data removed]",
      "text/plain": [
       "<Figure size 1440x864 with 2 Axes>"
      ]
     },
     "metadata": {
      "needs_background": "light"
     },
     "output_type": "display_data"
    }
   ],
   "source": [
    "pm25_no2_grouped.plot.line(subplots=True, figsize=(20, 12))"
   ]
  },
  {
   "cell_type": "markdown",
   "metadata": {
    "id": "GJIaCUxK2BuM",
    "pycharm": {
     "name": "#%% md\n"
    }
   },
   "source": [
    "We can see the average daily PM2.5 and NO2 results plotted above. These demonstrate that there is high variability in the\n",
    "average daily pollution levels across the city, reflected in the spikey line graphs. We can also see some seasonal variability,\n",
    "with higher PM2.5 and NO2 concentrations being recorded in the winter months (September to February) in 2018-2019. We cannot see\n",
    "the same increase in emissions for the following winter (2019-2020), potentially due to lockdowns being enforced in the late winter to early\n",
    "spring 2020.\n",
    "#### 📅 Change in the daily mean of pollutant concentrations in a local view\n",
    "Lets see how the levels of pollutants are varying, taking their local daily average. (ID's are unique)"
   ]
  },
  {
   "cell_type": "code",
   "execution_count": 76,
   "metadata": {
    "id": "krDpmT_O2BuN",
    "pycharm": {
     "name": "#%%\n"
    }
   },
   "outputs": [],
   "source": [
    "def generate_sample_location(data, id_col, no_of_rows):\n",
    "    test_sensor_ids = data[id_col].unique()[:no_of_rows]\n",
    "    return data[data[id_col].isin(test_sensor_ids)]\n",
    "\n",
    "sample_pm25_data = generate_sample_location(pm25_network_metadata, \"pod_id\", 5)\n",
    "sample_no2_data = generate_sample_location(no2_network_metadata, \"pod_id\", 5)"
   ]
  },
  {
   "cell_type": "markdown",
   "metadata": {
    "id": "zKT96Hvj2BuN",
    "pycharm": {
     "name": "#%% md\n"
    }
   },
   "source": [
    "After sampling the yearly concentration values from the first 5 unique station ID's I want to plot the air pollution\n",
    "concentrations for each of the location."
   ]
  },
  {
   "cell_type": "code",
   "execution_count": 77,
   "metadata": {
    "colab": {
     "base_uri": "https://localhost:8080/",
     "height": 389
    },
    "id": "YKXmX3Cr2BuN",
    "outputId": "ac116b9b-f91a-4ce9-ee7a-03ff4abae6fb",
    "pycharm": {
     "name": "#%%\n"
    }
   },
   "outputs": [
    {
     "data": {
      "text/plain": [
       "array([[<AxesSubplot:xlabel='date'>],\n",
       "       [<AxesSubplot:xlabel='date'>],\n",
       "       [<AxesSubplot:xlabel='date'>],\n",
       "       [<AxesSubplot:xlabel='date'>],\n",
       "       [<AxesSubplot:xlabel='date'>]], dtype=object)"
      ]
     },
     "execution_count": 77,
     "metadata": {},
     "output_type": "execute_result"
    },
    {
     "data": {
      "image/png": "[encoded data removed]",
      "text/plain": [
       "<Figure size 432x288 with 5 Axes>"
      ]
     },
     "metadata": {
      "needs_background": "light"
     },
     "output_type": "display_data"
    }
   ],
   "source": [
    "sample_pm25_data[[\"date\",\"pod_id\", \"pm2_5_ugm3\"]].groupby([\"date\",\"pod_id\"]).mean()[\"pm2_5_ugm3\"]\\\n",
    "    .unstack().plot(subplots=True, layout=(5,1))"
   ]
  },
  {
   "cell_type": "code",
   "execution_count": 78,
   "metadata": {
    "colab": {
     "base_uri": "https://localhost:8080/",
     "height": 389
    },
    "id": "Y29-obvm2BuO",
    "outputId": "b4192f92-5724-4b74-cbaf-cf7efb8d50a9",
    "pycharm": {
     "name": "#%%\n"
    }
   },
   "outputs": [
    {
     "data": {
      "text/plain": [
       "array([[<AxesSubplot:xlabel='date'>],\n",
       "       [<AxesSubplot:xlabel='date'>],\n",
       "       [<AxesSubplot:xlabel='date'>],\n",
       "       [<AxesSubplot:xlabel='date'>],\n",
       "       [<AxesSubplot:xlabel='date'>]], dtype=object)"
      ]
     },
     "execution_count": 78,
     "metadata": {},
     "output_type": "execute_result"
    },
    {
     "data": {
      "image/png": "[encoded data removed]",
      "text/plain": [
       "<Figure size 432x288 with 5 Axes>"
      ]
     },
     "metadata": {
      "needs_background": "light"
     },
     "output_type": "display_data"
    }
   ],
   "source": [
    "sample_no2_data[[\"date\",\"pod_id\", \"no2_ugm3\"]].groupby([\"date\",\"pod_id\"]).mean()[\"no2_ugm3\"]\\\n",
    "    .unstack().plot(subplots=True, layout=(5,1))"
   ]
  },
  {
   "cell_type": "markdown",
   "metadata": {
    "id": "TMX3a4S32BuO",
    "pycharm": {
     "name": "#%% md\n"
    }
   },
   "source": [
    "Here we can see the daily average pollution concentration data for the first 5 unique sensor ID's. The individual sensor readings\n",
    "show there is a lot of missing data (at differing intervals for each sensor). We can also see all the sensors shows exhibit a spike\n",
    "in NO2 concentrations in July/August 2019, and again in 2020.\n",
    "\n",
    "#### Intra-day analysis\n",
    "1.   During which time of the day was pollutant concentration the highest?\n",
    "2.   How did the pollutant concentration change during the day?"
   ]
  },
  {
   "cell_type": "code",
   "execution_count": 79,
   "metadata": {
    "colab": {
     "base_uri": "https://localhost:8080/",
     "height": 292
    },
    "id": "FP7waUvQ2BuP",
    "outputId": "c219ddd3-c816-426f-bf8b-81036afe810c",
    "pycharm": {
     "name": "#%%\n"
    }
   },
   "outputs": [
    {
     "data": {
      "image/png": "[encoded data removed]",
      "text/plain": [
       "<Figure size 432x288 with 5 Axes>"
      ]
     },
     "metadata": {
      "needs_background": "light"
     },
     "output_type": "display_data"
    }
   ],
   "source": [
    "pm25_day_data = sample_pm25_data.groupby([sample_pm25_data[\"timestamp\"].dt.hour,\"pod_id\"])[\"pm2_5_ugm3\"].mean()\n",
    "_ = pm25_day_data.unstack().plot(subplots=True, layout=(5,1), title=\"PM2.5 hourly concentrations\")"
   ]
  },
  {
   "cell_type": "code",
   "execution_count": 80,
   "metadata": {
    "colab": {
     "base_uri": "https://localhost:8080/",
     "height": 292
    },
    "id": "szu3ahQW2BuP",
    "outputId": "0f602adc-c2cd-41e4-e589-d214dba1d130",
    "pycharm": {
     "name": "#%%\n"
    }
   },
   "outputs": [
    {
     "data": {
      "image/png": "[encoded data removed]",
      "text/plain": [
       "<Figure size 432x288 with 5 Axes>"
      ]
     },
     "metadata": {
      "needs_background": "light"
     },
     "output_type": "display_data"
    }
   ],
   "source": [
    "no2_day_data = sample_no2_data.groupby([sample_no2_data[\"timestamp\"].dt.hour,\"pod_id\"])[\"no2_ugm3\"].mean()\n",
    "_ = no2_day_data.unstack().plot(subplots=True, layout=(5,1), title=\"NO2 hourly concentrations\")"
   ]
  },
  {
   "cell_type": "code",
   "execution_count": 81,
   "metadata": {
    "colab": {
     "base_uri": "https://localhost:8080/"
    },
    "id": "BGo3E30Q2BuQ",
    "outputId": "50b8b37d-7ce4-4189-b263-d6c06df9fbfb",
    "pycharm": {
     "name": "#%%\n"
    }
   },
   "outputs": [
    {
     "data": {
      "text/plain": [
       "1549270      24\n",
       "1549261      24\n",
       "93584        24\n",
       "93583        24\n",
       "93582        24\n",
       "           ... \n",
       "455000     2256\n",
       "455001     2256\n",
       "74567      2256\n",
       "454994     2256\n",
       "1207150    2256\n",
       "Name: date, Length: 1555296, dtype: int64"
      ]
     },
     "execution_count": 81,
     "metadata": {},
     "output_type": "execute_result"
    }
   ],
   "source": [
    "no2_feats_counts = no2_network_metadata['freq'] = no2_network_metadata.groupby('date')['date'].transform('count')\n",
    "\n",
    "no2_feats_counts.sort_values()"
   ]
  },
  {
   "cell_type": "code",
   "execution_count": 82,
   "metadata": {
    "colab": {
     "base_uri": "https://localhost:8080/"
    },
    "id": "cF2dEcoU2BuQ",
    "outputId": "b8fa47a5-945b-49be-a000-332aedf0a3c6",
    "pycharm": {
     "name": "#%%\n"
    }
   },
   "outputs": [
    {
     "data": {
      "text/plain": [
       "306560       7\n",
       "306558       7\n",
       "306557       7\n",
       "306556       7\n",
       "306555       7\n",
       "          ... \n",
       "468856    2184\n",
       "468855    2184\n",
       "468854    2184\n",
       "849540    2184\n",
       "561417    2184\n",
       "Name: date, Length: 1399810, dtype: int64"
      ]
     },
     "execution_count": 82,
     "metadata": {},
     "output_type": "execute_result"
    }
   ],
   "source": [
    "pm25_feats_counts = pm25_network_metadata['freq'] = pm25_network_metadata.groupby('date')['date'].transform('count')\n",
    "\n",
    "pm25_feats_counts.sort_values()"
   ]
  },
  {
   "cell_type": "markdown",
   "metadata": {
    "id": "zfnK85592BuQ",
    "pycharm": {
     "name": "#%% md\n"
    }
   },
   "source": [
    "Some of these locations have only seven data points per day (excluding NAs) we can consider removing it; or adding it to the nearest location.\n",
    "\n",
    "\n"
   ]
  },
  {
   "cell_type": "markdown",
   "metadata": {
    "id": "CmDkEZHB_HSN"
   },
   "source": [
    "### Junction intersection and pollution level\n",
    "I am interested in looking at whether distance to the road correlates with high PM2.5 and NO2 values.\n"
   ]
  },
  {
   "cell_type": "code",
   "execution_count": 83,
   "metadata": {
    "id": "nYIoGWHeELCH"
   },
   "outputs": [],
   "source": [
    "import seaborn as sns"
   ]
  },
  {
   "cell_type": "code",
   "execution_count": 84,
   "metadata": {
    "id": "1cT4FFBf_1c0"
   },
   "outputs": [],
   "source": [
    "def groupby_sensor_average(data, group_col, avg_col):\n",
    "    return data.groupby(group_col)[avg_col].mean().to_frame().reset_index()\n",
    "\n",
    "pm25_sensor_average = groupby_sensor_average(pm25_network_metadata, [\"pod_id\", \"Type\", \"Distance_from_Road\"], \"pm2_5_ugm3\")\n",
    "no2_sensor_average = groupby_sensor_average(no2_network_metadata, [\"pod_id\", \"Type\", \"Distance_from_Road\"], \"no2_ugm3\")\n"
   ]
  },
  {
   "cell_type": "code",
   "execution_count": 85,
   "metadata": {
    "colab": {
     "base_uri": "https://localhost:8080/",
     "height": 424
    },
    "id": "74_wS_E0BLaW",
    "outputId": "8aa94497-9cb1-4bc6-ff46-ecfeaa5212a6"
   },
   "outputs": [
    {
     "data": {
      "text/html": [
       "<div>\n",
       "<style scoped>\n",
       "    .dataframe tbody tr th:only-of-type {\n",
       "        vertical-align: middle;\n",
       "    }\n",
       "\n",
       "    .dataframe tbody tr th {\n",
       "        vertical-align: top;\n",
       "    }\n",
       "\n",
       "    .dataframe thead th {\n",
       "        text-align: right;\n",
       "    }\n",
       "</style>\n",
       "<table border=\"1\" class=\"dataframe\">\n",
       "  <thead>\n",
       "    <tr style=\"text-align: right;\">\n",
       "      <th></th>\n",
       "      <th>pod_id</th>\n",
       "      <th>Type</th>\n",
       "      <th>Distance_from_Road</th>\n",
       "      <th>no2_ugm3</th>\n",
       "    </tr>\n",
       "  </thead>\n",
       "  <tbody>\n",
       "    <tr>\n",
       "      <th>0</th>\n",
       "      <td>1245</td>\n",
       "      <td>Kerbside</td>\n",
       "      <td>1.20000</td>\n",
       "      <td>21.11035</td>\n",
       "    </tr>\n",
       "    <tr>\n",
       "      <th>1</th>\n",
       "      <td>2245</td>\n",
       "      <td>Roadside</td>\n",
       "      <td>2.50000</td>\n",
       "      <td>39.52215</td>\n",
       "    </tr>\n",
       "    <tr>\n",
       "      <th>2</th>\n",
       "      <td>3245</td>\n",
       "      <td>Urban Background</td>\n",
       "      <td>5.00000</td>\n",
       "      <td>34.34064</td>\n",
       "    </tr>\n",
       "    <tr>\n",
       "      <th>3</th>\n",
       "      <td>4245</td>\n",
       "      <td>Kerbside</td>\n",
       "      <td>0.50000</td>\n",
       "      <td>42.75733</td>\n",
       "    </tr>\n",
       "    <tr>\n",
       "      <th>4</th>\n",
       "      <td>5245</td>\n",
       "      <td>Kerbside</td>\n",
       "      <td>1.00000</td>\n",
       "      <td>44.16190</td>\n",
       "    </tr>\n",
       "    <tr>\n",
       "      <th>...</th>\n",
       "      <td>...</td>\n",
       "      <td>...</td>\n",
       "      <td>...</td>\n",
       "      <td>...</td>\n",
       "    </tr>\n",
       "    <tr>\n",
       "      <th>112</th>\n",
       "      <td>372245</td>\n",
       "      <td>Roadside</td>\n",
       "      <td>1.50000</td>\n",
       "      <td>26.26687</td>\n",
       "    </tr>\n",
       "    <tr>\n",
       "      <th>113</th>\n",
       "      <td>373245</td>\n",
       "      <td>Roadside</td>\n",
       "      <td>1.67000</td>\n",
       "      <td>33.49507</td>\n",
       "    </tr>\n",
       "    <tr>\n",
       "      <th>114</th>\n",
       "      <td>374245</td>\n",
       "      <td>Roadside</td>\n",
       "      <td>1.60000</td>\n",
       "      <td>26.05639</td>\n",
       "    </tr>\n",
       "    <tr>\n",
       "      <th>115</th>\n",
       "      <td>375245</td>\n",
       "      <td>Urban Background</td>\n",
       "      <td>5.80000</td>\n",
       "      <td>22.23285</td>\n",
       "    </tr>\n",
       "    <tr>\n",
       "      <th>116</th>\n",
       "      <td>376245</td>\n",
       "      <td>Kerbside</td>\n",
       "      <td>0.17000</td>\n",
       "      <td>27.50877</td>\n",
       "    </tr>\n",
       "  </tbody>\n",
       "</table>\n",
       "<p>117 rows × 4 columns</p>\n",
       "</div>"
      ],
      "text/plain": [
       "     pod_id               Type  Distance_from_Road  no2_ugm3\n",
       "0      1245           Kerbside             1.20000  21.11035\n",
       "1      2245           Roadside             2.50000  39.52215\n",
       "2      3245   Urban Background             5.00000  34.34064\n",
       "3      4245           Kerbside             0.50000  42.75733\n",
       "4      5245           Kerbside             1.00000  44.16190\n",
       "..      ...                ...                 ...       ...\n",
       "112  372245           Roadside             1.50000  26.26687\n",
       "113  373245           Roadside             1.67000  33.49507\n",
       "114  374245           Roadside             1.60000  26.05639\n",
       "115  375245  Urban Background              5.80000  22.23285\n",
       "116  376245           Kerbside             0.17000  27.50877\n",
       "\n",
       "[117 rows x 4 columns]"
      ]
     },
     "execution_count": 85,
     "metadata": {},
     "output_type": "execute_result"
    }
   ],
   "source": [
    "no2_sensor_average"
   ]
  },
  {
   "cell_type": "code",
   "execution_count": 86,
   "metadata": {
    "colab": {
     "base_uri": "https://localhost:8080/",
     "height": 279
    },
    "id": "NePt-M1AD8Lg",
    "outputId": "51225df7-8121-418e-a12b-d7dffef0abf5"
   },
   "outputs": [
    {
     "data": {
      "image/png": "[encoded data removed]",
      "text/plain": [
       "<Figure size 432x288 with 1 Axes>"
      ]
     },
     "metadata": {
      "needs_background": "light"
     },
     "output_type": "display_data"
    }
   ],
   "source": [
    "def get_IQR(data, IQR_column):\n",
    "    Q1 = data[IQR_column].quantile(0.25)\n",
    "    Q3 = data[IQR_column].quantile(0.75)\n",
    "    IQR = Q3 - Q1\n",
    "    return Q1, Q3, IQR   #IQR is interquartile range. \n",
    "\n",
    "def create_IQR(data, filter_col):\n",
    "    Q1, Q3, IQR = get_IQR(data, filter_col)\n",
    "    filter = (data[filter_col] >= Q1 - 1.5 * IQR) & (data[filter_col] <= Q3 + 1.5 *IQR)\n",
    "    return data.loc[filter]\n",
    "\n",
    "pm25_sensor_average_no_outlier = create_IQR(pm25_sensor_average, \"pm2_5_ugm3\")\n",
    "no2_sensor_average_no_outlier = create_IQR(no2_sensor_average, \"no2_ugm3\")\n",
    "\n",
    "pm2_5_ax = sns.boxplot(x=\"Type\", y=\"pm2_5_ugm3\", data=pm25_sensor_average_no_outlier)"
   ]
  },
  {
   "cell_type": "code",
   "execution_count": 87,
   "metadata": {
    "colab": {
     "base_uri": "https://localhost:8080/",
     "height": 279
    },
    "id": "Ro-ZcBAIJnIj",
    "outputId": "1fcf27fd-6700-4911-e5f8-62981ba771a3"
   },
   "outputs": [
    {
     "data": {
      "image/png": "[encoded data removed]",
      "text/plain": [
       "<Figure size 432x288 with 1 Axes>"
      ]
     },
     "metadata": {
      "needs_background": "light"
     },
     "output_type": "display_data"
    }
   ],
   "source": [
    "no2_ax = sns.boxplot(x=\"Type\", y=\"no2_ugm3\", data=no2_sensor_average_no_outlier)"
   ]
  },
  {
   "cell_type": "markdown",
   "metadata": {
    "id": "x6H7Z1yp_vMy"
   },
   "source": [
    "So we can see that intersections correlate with higher "
   ]
  },
  {
   "cell_type": "markdown",
   "metadata": {},
   "source": [
    "### Understanding pollution around school locations\n",
    "An estimated nine thousand Londoners die early every year due to air pollution-related causes[1](https://www.theguardian.com/environment/2015/jul/15/nearly-9500-people-die-each-year-in-london-because-of-air-pollution-study), and in 2020, a legal ruling determined that air pollution was the cause of death for an 8-year-old-girl living in London[2](https://www.theguardian.com/environment/2020/dec/16/girls-death-contributed-to-by-air-pollution-coroner-rules-in-landmark-case). \n",
    "\n",
    "Moreover, recent research[3](https://www.london.gov.uk/press-releases/mayoral/toxic-air-linked-to-severity-of-covid-19) from Imperial College London suggests exposure to high air pollution concentrations enhances the risk of COVID-19 hospitalisation.\n",
    "\n",
    "We know that the impact of air pollution is felt more acutely by the young, with 1 in every 4 deaths under 5 years related to\n",
    "environmental risks."
   ]
  },
  {
   "cell_type": "code",
   "execution_count": 88,
   "metadata": {},
   "outputs": [
    {
     "data": {
      "text/plain": [
       "98"
      ]
     },
     "execution_count": 88,
     "metadata": {},
     "output_type": "execute_result"
    }
   ],
   "source": [
    "len(pm25_network_metadata_gdf)"
   ]
  },
  {
   "cell_type": "markdown",
   "metadata": {},
   "source": [
    "This shows the number of sensors available in the network, 98. Out of the total sensor count, 35 of them were located on or by schools."
   ]
  },
  {
   "cell_type": "code",
   "execution_count": 89,
   "metadata": {},
   "outputs": [
    {
     "data": {
      "text/plain": [
       "35"
      ]
     },
     "execution_count": 89,
     "metadata": {},
     "output_type": "execute_result"
    }
   ],
   "source": [
    "len(pm25_network_metadata_gdf[\n",
    "    pm25_network_metadata_gdf['Site_Type'].str.contains(\"School\") == True])"
   ]
  },
  {
   "cell_type": "markdown",
   "metadata": {},
   "source": [
    "#### Analysing the location of schools proximate to air pollution sensors\n",
    "We need to know whether schools are located in areas of high pollution, in which case we need to define a methodology to assess whether a school location intersects a location with pollution. \n",
    "\n",
    "Here we are pulling in data from [London Schools Atlas](https://data.gov.uk/dataset/6b776872-c786-4960-af1d-dab521aa4ab0/london-schools-atlas) on locations of schools, and some key information such as:\n",
    "- count of the pupil flows from `LSOA` to each school \n",
    "- multiple deprivation information such as free school meals\n",
    "- the locations of each school and the number of total students they have"
   ]
  },
  {
   "cell_type": "code",
   "execution_count": 90,
   "metadata": {},
   "outputs": [],
   "source": [
    "# Defining some standardised functions to write and read csv's\n",
    "from typing import Any\n",
    "\n",
    "\n",
    "def read_csv(path: str, **kwargs: Any) -> pd.DataFrame:\n",
    "    \"\"\"\n",
    "    Read csv ensuring that nan's are not parsed\n",
    "    \"\"\"\n",
    "\n",
    "    return pd.read_csv(path, sep=\",\", low_memory=False, encoding=\"utf-8\", na_filter=False, **kwargs)\n",
    "\n",
    "\n",
    "def write_csv(df: pd.DataFrame, path: str, **kwargs: Any) -> None:\n",
    "    \"\"\"\n",
    "    Write csv to provided path ensuring that the correct encoding and escape\n",
    "    characters are applied.\n",
    "\n",
    "    Needed when csv's have text with html tags in it and lists inside cells.\n",
    "    \"\"\"\n",
    "    df.to_csv(\n",
    "        path,\n",
    "        index=False,\n",
    "        na_rep=\"\",\n",
    "        sep=\",\",\n",
    "        line_terminator=\"\\n\",\n",
    "        encoding=\"utf-8\",\n",
    "        escapechar=\"\\r\",\n",
    "        **kwargs,\n",
    "    )\n",
    "   "
   ]
  },
  {
   "cell_type": "code",
   "execution_count": 91,
   "metadata": {},
   "outputs": [],
   "source": [
    "all_schools_2016 = read_csv(f\"{root_data_path}/all_schools_xy_2016.csv\")"
   ]
  },
  {
   "cell_type": "code",
   "execution_count": 92,
   "metadata": {},
   "outputs": [],
   "source": [
    "all_schools_2016_gdf = gpd.GeoDataFrame(all_schools_2016, geometry=gpd.points_from_xy(all_schools_2016.x, all_schools_2016.y), crs='EPSG:4326')"
   ]
  },
  {
   "cell_type": "markdown",
   "metadata": {},
   "source": [
    "In order to intersect the sensor locations with school locations, we need to generate a geographic \"buffer zome\" around the sensors, one which we think represents the area likely to also have high pollution levels. In this analysis, we assume a 75m buffer around the location point to create this buffer."
   ]
  },
  {
   "cell_type": "code",
   "execution_count": 93,
   "metadata": {},
   "outputs": [
    {
     "data": {
      "text/plain": [
       "<AxesSubplot:>"
      ]
     },
     "execution_count": 93,
     "metadata": {},
     "output_type": "execute_result"
    },
    {
     "data": {
      "image/png": "[encoded data removed]",
      "text/plain": [
       "<Figure size 432x288 with 1 Axes>"
      ]
     },
     "metadata": {
      "needs_background": "light"
     },
     "output_type": "display_data"
    }
   ],
   "source": [
    "pm25_network_metadata_gdf.plot()"
   ]
  },
  {
   "cell_type": "code",
   "execution_count": 114,
   "metadata": {},
   "outputs": [
    {
     "name": "stderr",
     "output_type": "stream",
     "text": [
      "/Users/clast/opt/anaconda3/envs/TDS/lib/python3.7/site-packages/pyproj/crs/crs.py:53: FutureWarning: '+init=<authority>:<code>' syntax is deprecated. '<authority>:<code>' is the preferred initialization method. When making the change, be mindful of axis order changes: https://pyproj4.github.io/pyproj/stable/gotchas.html#axis-order-changes-in-proj-6\n",
      "  return _prepare_from_string(\" \".join(pjargs))\n"
     ]
    }
   ],
   "source": [
    "sensor_buffer_gdf = gpd.GeoDataFrame()\n",
    "\n",
    "# converting epsg for buffer creation\n",
    "all_schools_2016_gdf = set_crs(all_schools_2016_gdf, 4326, allow_override=True)\n",
    "\n",
    "\n",
    "pm25_network_metadata_gdf= pm25_network_metadata_gdf.to_crs({'init': 'epsg:3174'})  \n",
    "buffer_length_in_meters = 75\n",
    "\n",
    "sensor_buffer_gdf['geometry'] = pm25_network_metadata_gdf.geometry.buffer(buffer_length_in_meters)\n",
    "sensor_buffer_gdf.geometry = pm25_network_metadata_gdf.geometry.buffer(75)\n",
    "sensor_buffer_gdf = set_crs(sensor_buffer_gdf, 4326,  allow_override=True)\n"
   ]
  },
  {
   "cell_type": "code",
   "execution_count": 115,
   "metadata": {},
   "outputs": [
    {
     "data": {
      "text/plain": [
       "<AxesSubplot:>"
      ]
     },
     "execution_count": 115,
     "metadata": {},
     "output_type": "execute_result"
    },
    {
     "data": {
      "image/png": "[encoded data removed]",
      "text/plain": [
       "<Figure size 432x288 with 1 Axes>"
      ]
     },
     "metadata": {
      "needs_background": "light"
     },
     "output_type": "display_data"
    }
   ],
   "source": [
    "sensor_buffer_gdf.plot()"
   ]
  },
  {
   "cell_type": "code",
   "execution_count": 116,
   "metadata": {},
   "outputs": [],
   "source": [
    "sensor_school_intersection_gdf = gpd.sjoin(sensor_buffer_gdf, all_schools_2016_gdf, how='left', op='within')"
   ]
  },
  {
   "cell_type": "code",
   "execution_count": 118,
   "metadata": {},
   "outputs": [
    {
     "data": {
      "text/html": [
       "<div>\n",
       "<style scoped>\n",
       "    .dataframe tbody tr th:only-of-type {\n",
       "        vertical-align: middle;\n",
       "    }\n",
       "\n",
       "    .dataframe tbody tr th {\n",
       "        vertical-align: top;\n",
       "    }\n",
       "\n",
       "    .dataframe thead th {\n",
       "        text-align: right;\n",
       "    }\n",
       "</style>\n",
       "<table border=\"1\" class=\"dataframe\">\n",
       "  <thead>\n",
       "    <tr style=\"text-align: right;\">\n",
       "      <th></th>\n",
       "      <th>geometry</th>\n",
       "      <th>index_right</th>\n",
       "      <th>OBJECTID</th>\n",
       "      <th>URN</th>\n",
       "      <th>SCHOOL_NAM</th>\n",
       "      <th>TYPE</th>\n",
       "      <th>PHASE</th>\n",
       "      <th>ADDRESS</th>\n",
       "      <th>TOWN</th>\n",
       "      <th>POSTCODE</th>\n",
       "      <th>...</th>\n",
       "      <th>LA_NAME</th>\n",
       "      <th>WEBLINK</th>\n",
       "      <th>AGE</th>\n",
       "      <th>map_icon</th>\n",
       "      <th>NEW_URN</th>\n",
       "      <th>OLD_URN</th>\n",
       "      <th>map_icon_l</th>\n",
       "      <th>Primary</th>\n",
       "      <th>x</th>\n",
       "      <th>y</th>\n",
       "    </tr>\n",
       "  </thead>\n",
       "  <tbody>\n",
       "    <tr>\n",
       "      <th>0</th>\n",
       "      <td>True</td>\n",
       "      <td>False</td>\n",
       "      <td>False</td>\n",
       "      <td>False</td>\n",
       "      <td>False</td>\n",
       "      <td>False</td>\n",
       "      <td>False</td>\n",
       "      <td>False</td>\n",
       "      <td>False</td>\n",
       "      <td>False</td>\n",
       "      <td>...</td>\n",
       "      <td>False</td>\n",
       "      <td>False</td>\n",
       "      <td>False</td>\n",
       "      <td>False</td>\n",
       "      <td>False</td>\n",
       "      <td>False</td>\n",
       "      <td>False</td>\n",
       "      <td>False</td>\n",
       "      <td>False</td>\n",
       "      <td>False</td>\n",
       "    </tr>\n",
       "    <tr>\n",
       "      <th>1</th>\n",
       "      <td>True</td>\n",
       "      <td>False</td>\n",
       "      <td>False</td>\n",
       "      <td>False</td>\n",
       "      <td>False</td>\n",
       "      <td>False</td>\n",
       "      <td>False</td>\n",
       "      <td>False</td>\n",
       "      <td>False</td>\n",
       "      <td>False</td>\n",
       "      <td>...</td>\n",
       "      <td>False</td>\n",
       "      <td>False</td>\n",
       "      <td>False</td>\n",
       "      <td>False</td>\n",
       "      <td>False</td>\n",
       "      <td>False</td>\n",
       "      <td>False</td>\n",
       "      <td>False</td>\n",
       "      <td>False</td>\n",
       "      <td>False</td>\n",
       "    </tr>\n",
       "    <tr>\n",
       "      <th>2</th>\n",
       "      <td>True</td>\n",
       "      <td>False</td>\n",
       "      <td>False</td>\n",
       "      <td>False</td>\n",
       "      <td>False</td>\n",
       "      <td>False</td>\n",
       "      <td>False</td>\n",
       "      <td>False</td>\n",
       "      <td>False</td>\n",
       "      <td>False</td>\n",
       "      <td>...</td>\n",
       "      <td>False</td>\n",
       "      <td>False</td>\n",
       "      <td>False</td>\n",
       "      <td>False</td>\n",
       "      <td>False</td>\n",
       "      <td>False</td>\n",
       "      <td>False</td>\n",
       "      <td>False</td>\n",
       "      <td>False</td>\n",
       "      <td>False</td>\n",
       "    </tr>\n",
       "    <tr>\n",
       "      <th>3</th>\n",
       "      <td>True</td>\n",
       "      <td>False</td>\n",
       "      <td>False</td>\n",
       "      <td>False</td>\n",
       "      <td>False</td>\n",
       "      <td>False</td>\n",
       "      <td>False</td>\n",
       "      <td>False</td>\n",
       "      <td>False</td>\n",
       "      <td>False</td>\n",
       "      <td>...</td>\n",
       "      <td>False</td>\n",
       "      <td>False</td>\n",
       "      <td>False</td>\n",
       "      <td>False</td>\n",
       "      <td>False</td>\n",
       "      <td>False</td>\n",
       "      <td>False</td>\n",
       "      <td>False</td>\n",
       "      <td>False</td>\n",
       "      <td>False</td>\n",
       "    </tr>\n",
       "    <tr>\n",
       "      <th>4</th>\n",
       "      <td>True</td>\n",
       "      <td>False</td>\n",
       "      <td>False</td>\n",
       "      <td>False</td>\n",
       "      <td>False</td>\n",
       "      <td>False</td>\n",
       "      <td>False</td>\n",
       "      <td>False</td>\n",
       "      <td>False</td>\n",
       "      <td>False</td>\n",
       "      <td>...</td>\n",
       "      <td>False</td>\n",
       "      <td>False</td>\n",
       "      <td>False</td>\n",
       "      <td>False</td>\n",
       "      <td>False</td>\n",
       "      <td>False</td>\n",
       "      <td>False</td>\n",
       "      <td>False</td>\n",
       "      <td>False</td>\n",
       "      <td>False</td>\n",
       "    </tr>\n",
       "    <tr>\n",
       "      <th>...</th>\n",
       "      <td>...</td>\n",
       "      <td>...</td>\n",
       "      <td>...</td>\n",
       "      <td>...</td>\n",
       "      <td>...</td>\n",
       "      <td>...</td>\n",
       "      <td>...</td>\n",
       "      <td>...</td>\n",
       "      <td>...</td>\n",
       "      <td>...</td>\n",
       "      <td>...</td>\n",
       "      <td>...</td>\n",
       "      <td>...</td>\n",
       "      <td>...</td>\n",
       "      <td>...</td>\n",
       "      <td>...</td>\n",
       "      <td>...</td>\n",
       "      <td>...</td>\n",
       "      <td>...</td>\n",
       "      <td>...</td>\n",
       "      <td>...</td>\n",
       "    </tr>\n",
       "    <tr>\n",
       "      <th>93</th>\n",
       "      <td>True</td>\n",
       "      <td>False</td>\n",
       "      <td>False</td>\n",
       "      <td>False</td>\n",
       "      <td>False</td>\n",
       "      <td>False</td>\n",
       "      <td>False</td>\n",
       "      <td>False</td>\n",
       "      <td>False</td>\n",
       "      <td>False</td>\n",
       "      <td>...</td>\n",
       "      <td>False</td>\n",
       "      <td>False</td>\n",
       "      <td>False</td>\n",
       "      <td>False</td>\n",
       "      <td>False</td>\n",
       "      <td>False</td>\n",
       "      <td>False</td>\n",
       "      <td>False</td>\n",
       "      <td>False</td>\n",
       "      <td>False</td>\n",
       "    </tr>\n",
       "    <tr>\n",
       "      <th>94</th>\n",
       "      <td>True</td>\n",
       "      <td>False</td>\n",
       "      <td>False</td>\n",
       "      <td>False</td>\n",
       "      <td>False</td>\n",
       "      <td>False</td>\n",
       "      <td>False</td>\n",
       "      <td>False</td>\n",
       "      <td>False</td>\n",
       "      <td>False</td>\n",
       "      <td>...</td>\n",
       "      <td>False</td>\n",
       "      <td>False</td>\n",
       "      <td>False</td>\n",
       "      <td>False</td>\n",
       "      <td>False</td>\n",
       "      <td>False</td>\n",
       "      <td>False</td>\n",
       "      <td>False</td>\n",
       "      <td>False</td>\n",
       "      <td>False</td>\n",
       "    </tr>\n",
       "    <tr>\n",
       "      <th>95</th>\n",
       "      <td>True</td>\n",
       "      <td>False</td>\n",
       "      <td>False</td>\n",
       "      <td>False</td>\n",
       "      <td>False</td>\n",
       "      <td>False</td>\n",
       "      <td>False</td>\n",
       "      <td>False</td>\n",
       "      <td>False</td>\n",
       "      <td>False</td>\n",
       "      <td>...</td>\n",
       "      <td>False</td>\n",
       "      <td>False</td>\n",
       "      <td>False</td>\n",
       "      <td>False</td>\n",
       "      <td>False</td>\n",
       "      <td>False</td>\n",
       "      <td>False</td>\n",
       "      <td>False</td>\n",
       "      <td>False</td>\n",
       "      <td>False</td>\n",
       "    </tr>\n",
       "    <tr>\n",
       "      <th>96</th>\n",
       "      <td>True</td>\n",
       "      <td>False</td>\n",
       "      <td>False</td>\n",
       "      <td>False</td>\n",
       "      <td>False</td>\n",
       "      <td>False</td>\n",
       "      <td>False</td>\n",
       "      <td>False</td>\n",
       "      <td>False</td>\n",
       "      <td>False</td>\n",
       "      <td>...</td>\n",
       "      <td>False</td>\n",
       "      <td>False</td>\n",
       "      <td>False</td>\n",
       "      <td>False</td>\n",
       "      <td>False</td>\n",
       "      <td>False</td>\n",
       "      <td>False</td>\n",
       "      <td>False</td>\n",
       "      <td>False</td>\n",
       "      <td>False</td>\n",
       "    </tr>\n",
       "    <tr>\n",
       "      <th>97</th>\n",
       "      <td>True</td>\n",
       "      <td>False</td>\n",
       "      <td>False</td>\n",
       "      <td>False</td>\n",
       "      <td>False</td>\n",
       "      <td>False</td>\n",
       "      <td>False</td>\n",
       "      <td>False</td>\n",
       "      <td>False</td>\n",
       "      <td>False</td>\n",
       "      <td>...</td>\n",
       "      <td>False</td>\n",
       "      <td>False</td>\n",
       "      <td>False</td>\n",
       "      <td>False</td>\n",
       "      <td>False</td>\n",
       "      <td>False</td>\n",
       "      <td>False</td>\n",
       "      <td>False</td>\n",
       "      <td>False</td>\n",
       "      <td>False</td>\n",
       "    </tr>\n",
       "  </tbody>\n",
       "</table>\n",
       "<p>98 rows × 26 columns</p>\n",
       "</div>"
      ],
      "text/plain": [
       "    geometry  index_right  OBJECTID    URN  SCHOOL_NAM   TYPE  PHASE  ADDRESS  \\\n",
       "0       True        False     False  False       False  False  False    False   \n",
       "1       True        False     False  False       False  False  False    False   \n",
       "2       True        False     False  False       False  False  False    False   \n",
       "3       True        False     False  False       False  False  False    False   \n",
       "4       True        False     False  False       False  False  False    False   \n",
       "..       ...          ...       ...    ...         ...    ...    ...      ...   \n",
       "93      True        False     False  False       False  False  False    False   \n",
       "94      True        False     False  False       False  False  False    False   \n",
       "95      True        False     False  False       False  False  False    False   \n",
       "96      True        False     False  False       False  False  False    False   \n",
       "97      True        False     False  False       False  False  False    False   \n",
       "\n",
       "     TOWN  POSTCODE  ...  LA_NAME  WEBLINK    AGE  map_icon  NEW_URN  OLD_URN  \\\n",
       "0   False     False  ...    False    False  False     False    False    False   \n",
       "1   False     False  ...    False    False  False     False    False    False   \n",
       "2   False     False  ...    False    False  False     False    False    False   \n",
       "3   False     False  ...    False    False  False     False    False    False   \n",
       "4   False     False  ...    False    False  False     False    False    False   \n",
       "..    ...       ...  ...      ...      ...    ...       ...      ...      ...   \n",
       "93  False     False  ...    False    False  False     False    False    False   \n",
       "94  False     False  ...    False    False  False     False    False    False   \n",
       "95  False     False  ...    False    False  False     False    False    False   \n",
       "96  False     False  ...    False    False  False     False    False    False   \n",
       "97  False     False  ...    False    False  False     False    False    False   \n",
       "\n",
       "    map_icon_l  Primary      x      y  \n",
       "0        False    False  False  False  \n",
       "1        False    False  False  False  \n",
       "2        False    False  False  False  \n",
       "3        False    False  False  False  \n",
       "4        False    False  False  False  \n",
       "..         ...      ...    ...    ...  \n",
       "93       False    False  False  False  \n",
       "94       False    False  False  False  \n",
       "95       False    False  False  False  \n",
       "96       False    False  False  False  \n",
       "97       False    False  False  False  \n",
       "\n",
       "[98 rows x 26 columns]"
      ]
     },
     "execution_count": 118,
     "metadata": {},
     "output_type": "execute_result"
    }
   ],
   "source": [
    "sensor_school_intersection_gdf"
   ]
  },
  {
   "cell_type": "code",
   "execution_count": null,
   "metadata": {},
   "outputs": [],
   "source": []
  }
 ],
 "metadata": {
  "colab": {
   "collapsed_sections": [],
   "name": "Copy of air_pollution_modelling.ipynb",
   "provenance": []
  },
  "kernelspec": {
   "display_name": "Python TDS)",
   "language": "python",
   "name": "tds"
  },
  "language_info": {
   "codemirror_mode": {
    "name": "ipython",
    "version": 3
   },
   "file_extension": ".py",
   "mimetype": "text/x-python",
   "name": "python",
   "nbconvert_exporter": "python",
   "pygments_lexer": "ipython3",
   "version": "3.7.11"
  }
 },
 "nbformat": 4,
 "nbformat_minor": 1
}
