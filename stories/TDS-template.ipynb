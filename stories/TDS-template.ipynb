{
 "cells": [
  {
   "cell_type": "markdown",
   "id": "collective-kinase",
   "metadata": {},
   "source": [
    "---\n",
    "title: Your cool title here\n",
    "date: '2022-03-09'  # Placeholder date\n",
    "author:\n",
    "- name: Your Name\n",
    "  url: e.g. https://www.turing.ac.uk/people/research-engineering/your-name\n",
    "  affiliation: \n",
    "    - name: e.g. The Alan Turing Institute\n",
    "- name: Your Co-Author\n",
    "  url: e.g. https://www.turing.ac.uk/people/research-engineering/your-co-author\n",
    "  affiliation: \n",
    "    - name: e.g. The Alan Turing Institute\n",
    "    - name: second affiliation, e.g. University College London\n",
    "abstract: As the iconic BBC radio programme turns 80, we explore notable people and the music that tells the stories of their lives.\n",
    "keywords:\n",
    "- data exploration\n",
    "- data wrangling\n",
    "- data visualisation\n",
    "- digital humanities\n",
    "categories: [list, of, tags] (see previously used tags [here](https://alan-turing-institute.github.io/TuringDataStories-fastpages/categories/))\n",
    "license: CC BY  # Placeholder license\n",
    "---"
   ]
  },
  {
   "cell_type": "markdown",
   "id": "wireless-vinyl",
   "metadata": {},
   "source": [
    "\n",
    "\n",
    "### Reviewers\n",
    "- Reviewer 1\n",
    "- Reviewer 2"
   ]
  },
  {
   "cell_type": "markdown",
   "id": "coordinated-output",
   "metadata": {},
   "source": [
    "# Introduction"
   ]
  },
  {
   "cell_type": "markdown",
   "id": "operating-envelope",
   "metadata": {},
   "source": [
    "A few paragraphs of introduction, introducing the subject matter."
   ]
  },
  {
   "cell_type": "markdown",
   "id": "novel-publicity",
   "metadata": {
    "ExecuteTime": {
     "end_time": "2021-08-18T10:35:08.172303Z",
     "start_time": "2021-08-18T10:35:08.168559Z"
    }
   },
   "source": [
    "## Setup"
   ]
  },
  {
   "cell_type": "markdown",
   "id": "armed-chocolate",
   "metadata": {},
   "source": [
    "Any imports or global configuration."
   ]
  },
  {
   "cell_type": "code",
   "execution_count": 4,
   "id": "convinced-silicon",
   "metadata": {
    "ExecuteTime": {
     "end_time": "2021-08-18T10:36:29.635236Z",
     "start_time": "2021-08-18T10:36:29.631652Z"
    }
   },
   "outputs": [],
   "source": [
    "import matplotlib.pyplot as plt\n",
    "\n",
    "plt.rc(\"font\", size=14)"
   ]
  },
  {
   "cell_type": "markdown",
   "id": "indian-album",
   "metadata": {},
   "source": [
    "## Data"
   ]
  },
  {
   "cell_type": "markdown",
   "id": "approximate-committee",
   "metadata": {},
   "source": [
    "Introduce datasets. Download any datasets used in the story."
   ]
  },
  {
   "cell_type": "code",
   "execution_count": 5,
   "id": "living-plant",
   "metadata": {
    "ExecuteTime": {
     "end_time": "2021-08-18T10:37:21.767909Z",
     "start_time": "2021-08-18T10:37:21.765128Z"
    }
   },
   "outputs": [],
   "source": [
    "# code to retrieve data\n"
   ]
  },
  {
   "cell_type": "markdown",
   "id": "presidential-valve",
   "metadata": {},
   "source": [
    "# Content!"
   ]
  },
  {
   "cell_type": "markdown",
   "id": "through-corpus",
   "metadata": {},
   "source": [
    "Main body of the story can go here"
   ]
  },
  {
   "cell_type": "markdown",
   "id": "returning-opinion",
   "metadata": {},
   "source": [
    "# Conclusions"
   ]
  },
  {
   "cell_type": "markdown",
   "id": "electrical-classification",
   "metadata": {},
   "source": [
    "Round everything up, draw conclusions."
   ]
  },
  {
   "cell_type": "code",
   "execution_count": null,
   "id": "structured-comparison",
   "metadata": {},
   "outputs": [],
   "source": []
  }
 ],
 "metadata": {
  "kernelspec": {
   "display_name": "Python 3",
   "language": "python",
   "name": "python3"
  },
  "language_info": {
   "codemirror_mode": {
    "name": "ipython",
    "version": 3
   },
   "file_extension": ".py",
   "mimetype": "text/x-python",
   "name": "python",
   "nbconvert_exporter": "python",
   "pygments_lexer": "ipython3",
   "version": "3.7.9"
  },
  "latex_envs": {
   "LaTeX_envs_menu_present": true,
   "autoclose": false,
   "autocomplete": true,
   "bibliofile": "biblio.bib",
   "cite_by": "apalike",
   "current_citInitial": 1,
   "eqLabelWithNumbers": true,
   "eqNumInitial": 1,
   "hotkeys": {
    "equation": "Ctrl-E",
    "itemize": "Ctrl-I"
   },
   "labels_anchors": false,
   "latex_user_defs": false,
   "report_style_numbering": false,
   "user_envs_cfg": false
  },
  "toc": {
   "base_numbering": 1,
   "nav_menu": {},
   "number_sections": true,
   "sideBar": true,
   "skip_h1_title": false,
   "title_cell": "Table of Contents",
   "title_sidebar": "Contents",
   "toc_cell": false,
   "toc_position": {
    "height": "calc(100% - 180px)",
    "left": "10px",
    "top": "150px",
    "width": "185px"
   },
   "toc_section_display": true,
   "toc_window_display": true
  }
 },
 "nbformat": 4,
 "nbformat_minor": 5
}
